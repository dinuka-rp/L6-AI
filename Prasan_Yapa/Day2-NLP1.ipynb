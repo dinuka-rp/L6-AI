{
  "nbformat": 4,
  "nbformat_minor": 0,
  "metadata": {
    "colab": {
      "name": "Mr.Prasan Yapa - NLP2.ipynb",
      "provenance": [],
      "collapsed_sections": [],
      "authorship_tag": "ABX9TyO30ipQqpELcaxnAPRND3US",
      "include_colab_link": true
    },
    "kernelspec": {
      "name": "python3",
      "display_name": "Python 3"
    },
    "language_info": {
      "name": "python"
    }
  },
  "cells": [
    {
      "cell_type": "markdown",
      "metadata": {
        "id": "view-in-github",
        "colab_type": "text"
      },
      "source": [
        "<a href=\"https://colab.research.google.com/github/dinuka-rp/L6-AI/blob/main/Prasan_Yapa/Day2-NLP1.ipynb\" target=\"_parent\"><img src=\"https://colab.research.google.com/assets/colab-badge.svg\" alt=\"Open In Colab\"/></a>"
      ]
    },
    {
      "cell_type": "markdown",
      "metadata": {
        "id": "RCdv_0OioILe"
      },
      "source": [
        "# Parts-of-Speech Tagging"
      ]
    },
    {
      "cell_type": "code",
      "metadata": {
        "id": "6kBWngM3oBlH"
      },
      "source": [
        "import spacy\n",
        "\n",
        "# load the spaCy language model.\n",
        "sp = spacy.load('en_core_web_sm')"
      ],
      "execution_count": 1,
      "outputs": []
    },
    {
      "cell_type": "code",
      "metadata": {
        "colab": {
          "base_uri": "https://localhost:8080/"
        },
        "id": "PBm9XagwqhMK",
        "outputId": "8dff0659-94fc-4707-85c4-a27e1a7736b7"
      },
      "source": [
        "sentence1 = sp(\"I like to play football. I hated it in my childhood though\")\n",
        "\n",
        "print(sentence1.text)"
      ],
      "execution_count": 3,
      "outputs": [
        {
          "output_type": "stream",
          "name": "stdout",
          "text": [
            "I like to play football. I hated it in my childhood though\n"
          ]
        }
      ]
    },
    {
      "cell_type": "markdown",
      "metadata": {
        "id": "8UgLYanGqrxh"
      },
      "source": [
        "We will print the POS tag of the word \"hated\", which is actually the seventh token in the sentence."
      ]
    },
    {
      "cell_type": "code",
      "metadata": {
        "colab": {
          "base_uri": "https://localhost:8080/"
        },
        "id": "7kP766pUqoSe",
        "outputId": "94e2f8bc-9b54-4245-dbad-077f4c28663e"
      },
      "source": [
        "print(sentence1[7].pos_)"
      ],
      "execution_count": 4,
      "outputs": [
        {
          "output_type": "stream",
          "name": "stdout",
          "text": [
            "VERB\n"
          ]
        }
      ]
    },
    {
      "cell_type": "markdown",
      "metadata": {
        "id": "DZd-WZ7Jq361"
      },
      "source": [
        "print the fine-grained POS tag for the word “hated”.\n",
        "\n",
        "To see what VBD means, we can use `spacy.explain()` method as shown below."
      ]
    },
    {
      "cell_type": "code",
      "metadata": {
        "colab": {
          "base_uri": "https://localhost:8080/"
        },
        "id": "XyiLVOVLqyvp",
        "outputId": "bbe655b6-755b-4aa5-9955-c361ec92316c"
      },
      "source": [
        "print(sentence1[7].tag_)\n",
        "print(spacy.explain(sentence1[7].tag_))"
      ],
      "execution_count": 5,
      "outputs": [
        {
          "output_type": "stream",
          "name": "stdout",
          "text": [
            "VBD\n",
            "verb, past tense\n"
          ]
        }
      ]
    },
    {
      "cell_type": "markdown",
      "metadata": {
        "id": "w4rSebalrJ98"
      },
      "source": [
        "Let's print the text, coarse-grained POS tags, fine-grained POS tags, and the explanation for\n",
        "the tags for all the words in the sentence."
      ]
    },
    {
      "cell_type": "code",
      "metadata": {
        "colab": {
          "base_uri": "https://localhost:8080/"
        },
        "id": "LNYhr8Q9rL2l",
        "outputId": "36acdc70-5132-4adf-c7ab-835d64a32882"
      },
      "source": [
        "for word in sentence1:\n",
        "  print(f'{word.text:{12}} {word.pos_:{10}} {word.tag_:{8}} {spacy.explain(word.tag_)}')"
      ],
      "execution_count": 9,
      "outputs": [
        {
          "output_type": "stream",
          "name": "stdout",
          "text": [
            "I            PRON       PRP      pronoun, personal\n",
            "like         VERB       VBP      verb, non-3rd person singular present\n",
            "to           PART       TO       infinitival \"to\"\n",
            "play         VERB       VB       verb, base form\n",
            "football     NOUN       NN       noun, singular or mass\n",
            ".            PUNCT      .        punctuation mark, sentence closer\n",
            "I            PRON       PRP      pronoun, personal\n",
            "hated        VERB       VBD      verb, past tense\n",
            "it           PRON       PRP      pronoun, personal\n",
            "in           ADP        IN       conjunction, subordinating or preposition\n",
            "my           DET        PRP$     pronoun, possessive\n",
            "childhood    NOUN       NN       noun, singular or mass\n",
            "though       SCONJ      IN       conjunction, subordinating or preposition\n"
          ]
        }
      ]
    },
    {
      "cell_type": "markdown",
      "metadata": {
        "id": "lCW-Rzw4rt6V"
      },
      "source": [
        "*In the script above we improve the readability and formatting by adding 12 spaces between the\n",
        "text and coarse-grained POS tag and then another 10 spaces between the coarse-grained POS\n",
        "tags and fine-grained POS tags.*"
      ]
    },
    {
      "cell_type": "markdown",
      "metadata": {
        "id": "JB0uKm-Vr6M-"
      },
      "source": [
        "## *Why POS Tagging is Useful?*\n",
        "POS tagging can be really useful, particularly if you have words or tokens that can have\n",
        "multiple POS tags. For instance, the word “google” can be used as both a noun and verb,\n",
        "depending upon the context. While processing natural language, it is important to identify this\n",
        "difference. Fortunately, the spaCy library comes pre-built with machine learning algorithms\n",
        "that, depending upon the context, it is capable of returning the correct POS tag for the word."
      ]
    },
    {
      "cell_type": "code",
      "metadata": {
        "colab": {
          "base_uri": "https://localhost:8080/"
        },
        "id": "VATex0tdr90q",
        "outputId": "29244d1a-4f67-4998-bd2d-dfd238c34276"
      },
      "source": [
        "sentence2 = sp('Can you google it?')\n",
        "word = sentence2[2]\n",
        "print(f'{word.text:{12}} {word.pos_:{10}} {word.tag_:{8}} {spacy.explain(word.tag_)}')"
      ],
      "execution_count": 10,
      "outputs": [
        {
          "output_type": "stream",
          "name": "stdout",
          "text": [
            "google       VERB       VB       verb, base form\n"
          ]
        }
      ]
    },
    {
      "cell_type": "markdown",
      "metadata": {
        "id": "Ah32xSabsC6V"
      },
      "source": [
        "Here the word “google” is being used as a verb."
      ]
    },
    {
      "cell_type": "code",
      "metadata": {
        "colab": {
          "base_uri": "https://localhost:8080/"
        },
        "id": "kwkUfJMWsMn6",
        "outputId": "1c0aa22c-e8f2-407b-933c-cae8f14b3dbd"
      },
      "source": [
        "sentence3 = sp('Can you search it on google?')\n",
        "word = sentence3[5]\n",
        "print(f'{word.text:{12}} {word.pos_:{10}} {word.tag_:{8}} {spacy.explain(word.tag_)}')"
      ],
      "execution_count": 11,
      "outputs": [
        {
          "output_type": "stream",
          "name": "stdout",
          "text": [
            "google       PROPN      NNP      noun, proper singular\n"
          ]
        }
      ]
    },
    {
      "cell_type": "markdown",
      "metadata": {
        "id": "SnuGBbHWsOtz"
      },
      "source": [
        "Here in the above script the word “google” is being used as a noun."
      ]
    },
    {
      "cell_type": "markdown",
      "metadata": {
        "id": "9-GY3MODsVpY"
      },
      "source": [
        "You can find the number of occurrences of each POS tag by calling the `count_by` on the spaCy\n",
        "document object. The method takes `spacy.attrs.POS` as a parameter value."
      ]
    },
    {
      "cell_type": "code",
      "metadata": {
        "colab": {
          "base_uri": "https://localhost:8080/"
        },
        "id": "w0JrCk39sakS",
        "outputId": "16aab350-885b-4050-81e3-c894069e3209"
      },
      "source": [
        "sentence4 = sp(\"I like to play football. I hated it in my childhood though\")\n",
        "num_pos = sentence4.count_by(spacy.attrs.POS)\n",
        "print(num_pos)"
      ],
      "execution_count": 12,
      "outputs": [
        {
          "output_type": "stream",
          "name": "stdout",
          "text": [
            "{95: 3, 100: 3, 94: 1, 92: 2, 97: 1, 85: 1, 90: 1, 98: 1}\n"
          ]
        }
      ]
    },
    {
      "cell_type": "markdown",
      "metadata": {
        "id": "Nan9dFU_so0_"
      },
      "source": [
        "## Named Entity Recognition\n",
        "Named entity recognition refers to the identification of words in a sentence as an entity e.g. the\n",
        "name of a person, place, organization, etc. Let's see how the spaCy library performs named\n",
        "entity recognition."
      ]
    },
    {
      "cell_type": "code",
      "metadata": {
        "colab": {
          "base_uri": "https://localhost:8080/"
        },
        "id": "h_YqJvLsste4",
        "outputId": "a944a4c2-fcdd-4edc-f51f-b402567724d7"
      },
      "source": [
        "sentence5 = sen = sp('Manchester United is looking to sign Harry Kane for $90 million')\n",
        "print(sentence5.ents)"
      ],
      "execution_count": 13,
      "outputs": [
        {
          "output_type": "stream",
          "name": "stdout",
          "text": [
            "(Manchester United, Harry Kane, $90 million)\n"
          ]
        }
      ]
    },
    {
      "cell_type": "markdown",
      "metadata": {
        "id": "40--F8lesxBN"
      },
      "source": [
        "You can see that three named entities were identified. \n",
        "\n",
        "To see the detail of each named entity,\n",
        "you can use the text, label, and the spacy.explain method which takes the entity object as a\n",
        "parameter."
      ]
    },
    {
      "cell_type": "code",
      "metadata": {
        "colab": {
          "base_uri": "https://localhost:8080/"
        },
        "id": "c_tMulsPs1LI",
        "outputId": "8a53877a-e82c-4a5b-85ad-84ed4a740afc"
      },
      "source": [
        "for entity in sentence5.ents:\n",
        "  print(entity.text + ' - ' + entity.label_ + ' - ' +\n",
        "str(spacy.explain(entity.label_)))"
      ],
      "execution_count": 14,
      "outputs": [
        {
          "output_type": "stream",
          "name": "stdout",
          "text": [
            "Manchester United - PERSON - People, including fictional\n",
            "Harry Kane - PERSON - People, including fictional\n",
            "$90 million - MONEY - Monetary values, including unit\n"
          ]
        }
      ]
    },
    {
      "cell_type": "markdown",
      "metadata": {
        "id": "IroyH9e3s_Ff"
      },
      "source": [
        "You can also add new entities to an existing document. For instance, in the following example,\n",
        "“Virtusa” is not identified as a company by the spaCy library."
      ]
    },
    {
      "cell_type": "code",
      "metadata": {
        "colab": {
          "base_uri": "https://localhost:8080/"
        },
        "id": "nJ-CFpYJtD5S",
        "outputId": "9fc1ac1c-fae3-4e11-b80c-9d919f197dc6"
      },
      "source": [
        "sentence6 = sp('Virtusa is a setting up company in Sweden')\n",
        "for entity in sentence6.ents:\n",
        "  print(entity.text + ' - ' + entity.label_ + ' - ' +\n",
        "str(spacy.explain(entity.label_)))"
      ],
      "execution_count": 15,
      "outputs": [
        {
          "output_type": "stream",
          "name": "stdout",
          "text": [
            "Sweden - GPE - Countries, cities, states\n"
          ]
        }
      ]
    },
    {
      "cell_type": "markdown",
      "metadata": {
        "id": "gFFcT8lctI4e"
      },
      "source": [
        "## Add a new entity to a Spacy document\n",
        "\n",
        "add “Virtusa” as an entity of type “ORG” to our document,"
      ]
    },
    {
      "cell_type": "code",
      "metadata": {
        "colab": {
          "base_uri": "https://localhost:8080/"
        },
        "id": "egPGXfgttNdY",
        "outputId": "f1c8df71-6589-43e5-ca8b-3dc96ec6c156"
      },
      "source": [
        "from spacy.tokens import Span\n",
        "\n",
        "ORG = sen.vocab.strings['ORG']\n",
        "new_entity = Span(sentence6, 0, 1, label=ORG)\n",
        "sentence6.ents = list(sentence6.ents) + [new_entity]\n",
        "\n",
        "for entity in sentence6.ents:\n",
        "  print(entity.text + ' - ' + entity.label_ + ' - ' +\n",
        "str(spacy.explain(entity.label_)))"
      ],
      "execution_count": 16,
      "outputs": [
        {
          "output_type": "stream",
          "name": "stdout",
          "text": [
            "Virtusa - ORG - Companies, agencies, institutions, etc.\n",
            "Sweden - GPE - Countries, cities, states\n"
          ]
        }
      ]
    },
    {
      "cell_type": "markdown",
      "metadata": {
        "id": "1guvLcSYtcOd"
      },
      "source": [
        "In the case of POS tags, we could count the frequency of each POS tag in a document using a\n",
        "special method sen.count_by. However, for named entities, no such method exists. We can\n",
        "manually count the frequency of each entity type. Suppose we have the following document\n",
        "along with its entities."
      ]
    },
    {
      "cell_type": "code",
      "metadata": {
        "colab": {
          "base_uri": "https://localhost:8080/"
        },
        "id": "QmSUdhtvtdPb",
        "outputId": "283f8bb4-0ac5-4c59-d792-51e856ecd6c2"
      },
      "source": [
        "sentence7 = sp('Manchester United is looking to sign Harry Kane for $90 million. David demand 100 Million Dollars')\n",
        "\n",
        "for entity in sentence7.ents:\n",
        "  print(entity.text + ' - ' + entity.label_ + ' - ' +\n",
        "str(spacy.explain(entity.label_)))"
      ],
      "execution_count": 18,
      "outputs": [
        {
          "output_type": "stream",
          "name": "stdout",
          "text": [
            "Manchester United - PERSON - People, including fictional\n",
            "Harry Kane - PERSON - People, including fictional\n",
            "$90 million - MONEY - Monetary values, including unit\n",
            "David - PERSON - People, including fictional\n",
            "100 Million Dollars - MONEY - Monetary values, including unit\n"
          ]
        }
      ]
    },
    {
      "cell_type": "markdown",
      "metadata": {
        "id": "b--f4IiVtirN"
      },
      "source": [
        "To count the person type entities in the above document, we can use the following script."
      ]
    },
    {
      "cell_type": "code",
      "metadata": {
        "colab": {
          "base_uri": "https://localhost:8080/"
        },
        "id": "-6E0nmS0tjdC",
        "outputId": "9cfb5d79-4096-46a7-8ea3-534b8677869f"
      },
      "source": [
        "print(len([ent for ent in sentence7.ents if ent.label_=='PERSON']))"
      ],
      "execution_count": 19,
      "outputs": [
        {
          "output_type": "stream",
          "name": "stdout",
          "text": [
            "3\n"
          ]
        }
      ]
    }
  ]
}