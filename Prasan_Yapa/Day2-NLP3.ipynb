{
  "nbformat": 4,
  "nbformat_minor": 0,
  "metadata": {
    "colab": {
      "name": "Mr.Prasan Yapa - NLP3.ipynb",
      "provenance": [],
      "collapsed_sections": [],
      "authorship_tag": "ABX9TyOGINQDkGSPM6D+sTJ1/4gD",
      "include_colab_link": true
    },
    "kernelspec": {
      "name": "python3",
      "display_name": "Python 3"
    },
    "language_info": {
      "name": "python"
    }
  },
  "cells": [
    {
      "cell_type": "markdown",
      "metadata": {
        "id": "view-in-github",
        "colab_type": "text"
      },
      "source": [
        "<a href=\"https://colab.research.google.com/github/dinuka-rp/L6-AI/blob/main/Prasan_Yapa/Day2-NLP3.ipynb\" target=\"_parent\"><img src=\"https://colab.research.google.com/assets/colab-badge.svg\" alt=\"Open In Colab\"/></a>"
      ]
    },
    {
      "cell_type": "markdown",
      "metadata": {
        "id": "40V-B86Luqja"
      },
      "source": [
        "# Word Embedding\n",
        "\n",
        "Vector Representation using Mathematical approaches.\n",
        "\n",
        "This hands-on session will walk you through the important concepts of working with the\n",
        "Word2Vec word embedding technique used for creating word vectors with Python's Gensim\n",
        "library.\n",
        "\n",
        "In real-life applications, Word2Vec models are created using billions of documents. For\n",
        "instance, Google's Word2Vec model is trained using 3 million words and phrases. However,\n",
        "for the sake of simplicity, we will create a Word2Vec model using a Single Wikipedia article.\n",
        "Our model will not be as good as Google's. Although, it is good enough to explain how\n",
        "Word2Vec model can be implemented using the Gensim library."
      ]
    },
    {
      "cell_type": "markdown",
      "metadata": {
        "id": "25USURhmu2Bw"
      },
      "source": [
        "* Beautiful Soup library - a very useful Python \n",
        "utility for web scraping.\n",
        "* lxml library - parse XML and HTML is the."
      ]
    },
    {
      "cell_type": "code",
      "metadata": {
        "colab": {
          "base_uri": "https://localhost:8080/"
        },
        "id": "acww07QPugX7",
        "outputId": "37e78cba-5731-4675-f76d-075dd27fe5a7"
      },
      "source": [
        "!pip install beautifulsoup4\n",
        "!pip install lxml"
      ],
      "execution_count": 1,
      "outputs": [
        {
          "output_type": "stream",
          "name": "stdout",
          "text": [
            "Requirement already satisfied: beautifulsoup4 in /usr/local/lib/python3.7/dist-packages (4.6.3)\n",
            "Requirement already satisfied: lxml in /usr/local/lib/python3.7/dist-packages (4.2.6)\n"
          ]
        }
      ]
    },
    {
      "cell_type": "markdown",
      "metadata": {
        "id": "U7JECZEpxMqo"
      },
      "source": [
        "## Scrapping\n",
        "\n",
        "The article we are going to scrape is the Wikipedia article on Artificial Intelligence. Let's write\n",
        "a Python Script to scrape the article from Wikipedia."
      ]
    },
    {
      "cell_type": "code",
      "metadata": {
        "id": "RlpncrzkxXlg"
      },
      "source": [
        "import bs4 as bs\n",
        "import urllib.request\n",
        "import re\n",
        "import nltk\n",
        "\n",
        "scrapped_data = urllib.request.urlopen('https://en.wikipedia.org/wiki/Artificial_intelligence')\n",
        "article = scrapped_data.read()\n",
        "\n",
        "parsed_article = bs.BeautifulSoup(article, 'lxml')\n",
        "\n",
        "paragraphs = parsed_article.find_all('p')\n",
        "\n",
        "article_text = \"\"\n",
        "\n",
        "for p in paragraphs:\n",
        "  article_text += p.text"
      ],
      "execution_count": 4,
      "outputs": []
    },
    {
      "cell_type": "markdown",
      "metadata": {
        "id": "mJJAb5U-zNF2"
      },
      "source": [
        "In the script above, we first download the Wikipedia article using the urlopen method of the\n",
        "request class of the urllib library. We then read the article content and parse it using an object\n",
        "of the BeautifulSoup class. Wikipedia stores the text content of the article inside p tags. We use the find_all function of the BeautifulSoup object to fetch all the contents from the paragraph tags of the article.\n",
        "\n",
        "Finally, we join all the paragraphs together and store the scraped article in article_text variable for later use."
      ]
    },
    {
      "cell_type": "markdown",
      "metadata": {
        "id": "fUa5L_s6zbC4"
      },
      "source": [
        "## Preprocessing\n",
        "\n",
        "At this point we have now imported the article. The next step is to preprocess the content for\n",
        "Word2Vec model. The following script preprocess the text."
      ]
    },
    {
      "cell_type": "code",
      "metadata": {
        "colab": {
          "base_uri": "https://localhost:8080/"
        },
        "id": "HsK3Skuzz3nx",
        "outputId": "49ff5e91-28cd-42b0-ae29-56d82c6f6a3d"
      },
      "source": [
        "nltk.download('punkt')\n",
        "nltk.download('stopwords')"
      ],
      "execution_count": 8,
      "outputs": [
        {
          "output_type": "stream",
          "name": "stdout",
          "text": [
            "[nltk_data] Downloading package punkt to /root/nltk_data...\n",
            "[nltk_data]   Package punkt is already up-to-date!\n",
            "[nltk_data] Downloading package stopwords to /root/nltk_data...\n",
            "[nltk_data]   Unzipping corpora/stopwords.zip.\n"
          ]
        },
        {
          "output_type": "execute_result",
          "data": {
            "text/plain": [
              "True"
            ]
          },
          "metadata": {},
          "execution_count": 8
        }
      ]
    },
    {
      "cell_type": "code",
      "metadata": {
        "id": "WGW40GMzyPwd"
      },
      "source": [
        "from nltk.corpus import stopwords\n",
        "\n",
        "processed_article = article_text.lower()\n",
        "processed_article = re.sub('[^a-zA-Z]', ' ', processed_article)\n",
        "processed_article = re.sub(r'\\s+', ' ', processed_article)\n",
        "\n",
        "# Preparing the dataset\n",
        "all_sentences = nltk.sent_tokenize(processed_article)\n",
        "\n",
        "all_words = [nltk.word_tokenize(sent) for sent in all_sentences]\n",
        "\n",
        "# Removing Stop Words\n",
        "for i in range(len(all_words)):\n",
        "  all_words[i] = [w for w in all_words[i] if w not in stopwords.words('english')]"
      ],
      "execution_count": 9,
      "outputs": []
    },
    {
      "cell_type": "markdown",
      "metadata": {
        "id": "lOrRQoRO0ALP"
      },
      "source": [
        "In the script above, we convert all the text to lowercase and then remove all the digits, special\n",
        "characters, and extra spaces from the text. \n",
        "\n",
        "After preprocessing, we are only left with the words."
      ]
    },
    {
      "cell_type": "markdown",
      "metadata": {
        "id": "GVXcWFvi0JFn"
      },
      "source": [
        "The Word2Vec model is trained on a collection of words. First, we need to convert our article\n",
        "into sentences. We use `nltk.sent_tokenize` utility to convert our article into sentences. To\n",
        "convert sentences into words, we use `nltk.word_tokenize` utility. As a last preprocessing step,\n",
        "we remove all the stop words from the text.\n",
        "\n",
        "After the script completes its execution, the all_words object contains the list of all the words\n",
        "in the article. We will use this list to create our Word2Vec model with the Gensim library."
      ]
    },
    {
      "cell_type": "markdown",
      "metadata": {
        "id": "cYFAemVJ0RYj"
      },
      "source": [
        "## Creating Word2Vec Model\n",
        "\n",
        "With Gensim, it is extremely straightforward to create Word2Vec model. The word list is\n",
        "passed to the Word2Vec class of the gensim.models package. We need to specify the value for\n",
        "the min_count parameter. A value of 2 for min_count specifies to include only those words in\n",
        "the Word2Vec model that appear at least twice in the corpus. The following script creates\n",
        "Word2Vec model using the Wikipedia article we scraped."
      ]
    },
    {
      "cell_type": "code",
      "metadata": {
        "id": "-cCXJVJh0IoJ"
      },
      "source": [
        "from gensim.models import Word2Vec\n",
        "\n",
        "word2vec = Word2Vec(all_words, min_count=2)"
      ],
      "execution_count": 10,
      "outputs": []
    },
    {
      "cell_type": "markdown",
      "metadata": {
        "id": "Gt1pd9vI0cms"
      },
      "source": [
        "To see the dictionary of unique words that exist at least twice in the corpus, execute the\n",
        "following script."
      ]
    },
    {
      "cell_type": "code",
      "metadata": {
        "colab": {
          "base_uri": "https://localhost:8080/"
        },
        "id": "OveBlrXO0dXQ",
        "outputId": "99aa0878-4151-46e9-c768-f24ad058c58d"
      },
      "source": [
        "vocabulary = word2vec.wv.vocab\n",
        "\n",
        "print(vocabulary)\n",
        "print(vocabulary.keys())\n",
        "# print(vocabulary.items())"
      ],
      "execution_count": 25,
      "outputs": [
        {
          "output_type": "stream",
          "name": "stdout",
          "text": [
            "{'artificial': <gensim.models.keyedvectors.Vocab object at 0x7f57d5d6b110>, 'intelligence': <gensim.models.keyedvectors.Vocab object at 0x7f57d5d6bdd0>, 'ai': <gensim.models.keyedvectors.Vocab object at 0x7f57d5d6e490>, 'machines': <gensim.models.keyedvectors.Vocab object at 0x7f57d1fe9d50>, 'natural': <gensim.models.keyedvectors.Vocab object at 0x7f57d1d57cd0>, 'displayed': <gensim.models.keyedvectors.Vocab object at 0x7f57d1d01550>, 'humans': <gensim.models.keyedvectors.Vocab object at 0x7f57d1d01510>, 'leading': <gensim.models.keyedvectors.Vocab object at 0x7f57d1d015d0>, 'define': <gensim.models.keyedvectors.Vocab object at 0x7f57d1d57c90>, 'field': <gensim.models.keyedvectors.Vocab object at 0x7f57d1d64490>, 'study': <gensim.models.keyedvectors.Vocab object at 0x7f57d1d01610>, 'intelligent': <gensim.models.keyedvectors.Vocab object at 0x7f57d1d01650>, 'agents': <gensim.models.keyedvectors.Vocab object at 0x7f57d1d01690>, 'system': <gensim.models.keyedvectors.Vocab object at 0x7f57d1d016d0>, 'perceives': <gensim.models.keyedvectors.Vocab object at 0x7f57d1d01710>, 'environment': <gensim.models.keyedvectors.Vocab object at 0x7f57d1d01750>, 'takes': <gensim.models.keyedvectors.Vocab object at 0x7f57d1d01790>, 'actions': <gensim.models.keyedvectors.Vocab object at 0x7f57d1d017d0>, 'maximize': <gensim.models.keyedvectors.Vocab object at 0x7f57d1d01810>, 'achieving': <gensim.models.keyedvectors.Vocab object at 0x7f57d1d01850>, 'goals': <gensim.models.keyedvectors.Vocab object at 0x7f57d1d01890>, 'popular': <gensim.models.keyedvectors.Vocab object at 0x7f57d1d018d0>, 'use': <gensim.models.keyedvectors.Vocab object at 0x7f57d1d01910>, 'term': <gensim.models.keyedvectors.Vocab object at 0x7f57d1d01950>, 'cognitive': <gensim.models.keyedvectors.Vocab object at 0x7f57d1d01990>, 'functions': <gensim.models.keyedvectors.Vocab object at 0x7f57d1d019d0>, 'human': <gensim.models.keyedvectors.Vocab object at 0x7f57d1d01a10>, 'mind': <gensim.models.keyedvectors.Vocab object at 0x7f57d1d01a50>, 'learning': <gensim.models.keyedvectors.Vocab object at 0x7f57d1d01a90>, 'problem': <gensim.models.keyedvectors.Vocab object at 0x7f57d1d01ad0>, 'solving': <gensim.models.keyedvectors.Vocab object at 0x7f57d1d01b10>, 'however': <gensim.models.keyedvectors.Vocab object at 0x7f57d1d01b50>, 'definition': <gensim.models.keyedvectors.Vocab object at 0x7f57d1d01b90>, 'rejected': <gensim.models.keyedvectors.Vocab object at 0x7f57d1d01bd0>, 'researchers': <gensim.models.keyedvectors.Vocab object at 0x7f57d1d01c10>, 'applications': <gensim.models.keyedvectors.Vocab object at 0x7f57d1d01c50>, 'include': <gensim.models.keyedvectors.Vocab object at 0x7f57d1d01c90>, 'advanced': <gensim.models.keyedvectors.Vocab object at 0x7f57d1d01cd0>, 'web': <gensim.models.keyedvectors.Vocab object at 0x7f57d1d01d10>, 'search': <gensim.models.keyedvectors.Vocab object at 0x7f57d1d01d50>, 'engines': <gensim.models.keyedvectors.Vocab object at 0x7f57d1d01d90>, 'e': <gensim.models.keyedvectors.Vocab object at 0x7f57d1d01dd0>, 'google': <gensim.models.keyedvectors.Vocab object at 0x7f57d1d01e10>, 'recommendation': <gensim.models.keyedvectors.Vocab object at 0x7f57d1d01e50>, 'systems': <gensim.models.keyedvectors.Vocab object at 0x7f57d1d01e90>, 'used': <gensim.models.keyedvectors.Vocab object at 0x7f57d1d01ed0>, 'amazon': <gensim.models.keyedvectors.Vocab object at 0x7f57d1d01f10>, 'netflix': <gensim.models.keyedvectors.Vocab object at 0x7f57d1d01f50>, 'understanding': <gensim.models.keyedvectors.Vocab object at 0x7f57d1d01f90>, 'speech': <gensim.models.keyedvectors.Vocab object at 0x7f57d1d01fd0>, 'siri': <gensim.models.keyedvectors.Vocab object at 0x7f57d1d07050>, 'self': <gensim.models.keyedvectors.Vocab object at 0x7f57d1d07090>, 'driving': <gensim.models.keyedvectors.Vocab object at 0x7f57d1d070d0>, 'cars': <gensim.models.keyedvectors.Vocab object at 0x7f57d1d07110>, 'g': <gensim.models.keyedvectors.Vocab object at 0x7f57d1d07150>, 'level': <gensim.models.keyedvectors.Vocab object at 0x7f57d1d07190>, 'game': <gensim.models.keyedvectors.Vocab object at 0x7f57d1d071d0>, 'chess': <gensim.models.keyedvectors.Vocab object at 0x7f57d1d07210>, 'go': <gensim.models.keyedvectors.Vocab object at 0x7f57d1d07250>, 'become': <gensim.models.keyedvectors.Vocab object at 0x7f57d1d07290>, 'capable': <gensim.models.keyedvectors.Vocab object at 0x7f57d1d072d0>, 'tasks': <gensim.models.keyedvectors.Vocab object at 0x7f57d1d07310>, 'considered': <gensim.models.keyedvectors.Vocab object at 0x7f57d1d07350>, 'require': <gensim.models.keyedvectors.Vocab object at 0x7f57d1d07390>, 'often': <gensim.models.keyedvectors.Vocab object at 0x7f57d1d073d0>, 'phenomenon': <gensim.models.keyedvectors.Vocab object at 0x7f57d1d07410>, 'known': <gensim.models.keyedvectors.Vocab object at 0x7f57d1d07450>, 'effect': <gensim.models.keyedvectors.Vocab object at 0x7f57d1d07490>, 'recognition': <gensim.models.keyedvectors.Vocab object at 0x7f57d1d074d0>, 'frequently': <gensim.models.keyedvectors.Vocab object at 0x7f57d1d07510>, 'things': <gensim.models.keyedvectors.Vocab object at 0x7f57d1d07550>, 'technology': <gensim.models.keyedvectors.Vocab object at 0x7f57d1d07590>, 'founded': <gensim.models.keyedvectors.Vocab object at 0x7f57d1d075d0>, 'academic': <gensim.models.keyedvectors.Vocab object at 0x7f57d1d07610>, 'years': <gensim.models.keyedvectors.Vocab object at 0x7f57d1d07650>, 'since': <gensim.models.keyedvectors.Vocab object at 0x7f57d1d07690>, 'experienced': <gensim.models.keyedvectors.Vocab object at 0x7f57d1d076d0>, 'several': <gensim.models.keyedvectors.Vocab object at 0x7f57d1d07710>, 'waves': <gensim.models.keyedvectors.Vocab object at 0x7f57d1d07750>, 'followed': <gensim.models.keyedvectors.Vocab object at 0x7f57d1d07790>, 'funding': <gensim.models.keyedvectors.Vocab object at 0x7f57d1d077d0>, 'winter': <gensim.models.keyedvectors.Vocab object at 0x7f57d1d07810>, 'new': <gensim.models.keyedvectors.Vocab object at 0x7f57d1d07850>, 'approaches': <gensim.models.keyedvectors.Vocab object at 0x7f57d1d07890>, 'success': <gensim.models.keyedvectors.Vocab object at 0x7f57d1d078d0>, 'research': <gensim.models.keyedvectors.Vocab object at 0x7f57d1d07910>, 'many': <gensim.models.keyedvectors.Vocab object at 0x7f57d1d07950>, 'different': <gensim.models.keyedvectors.Vocab object at 0x7f57d1d07990>, 'including': <gensim.models.keyedvectors.Vocab object at 0x7f57d1d079d0>, 'simulating': <gensim.models.keyedvectors.Vocab object at 0x7f57d1d07a10>, 'brain': <gensim.models.keyedvectors.Vocab object at 0x7f57d1d07a50>, 'modeling': <gensim.models.keyedvectors.Vocab object at 0x7f57d1d07a90>, 'formal': <gensim.models.keyedvectors.Vocab object at 0x7f57d1d07ad0>, 'logic': <gensim.models.keyedvectors.Vocab object at 0x7f57d1d07b10>, 'large': <gensim.models.keyedvectors.Vocab object at 0x7f57d1d07b50>, 'databases': <gensim.models.keyedvectors.Vocab object at 0x7f57d1d07b90>, 'knowledge': <gensim.models.keyedvectors.Vocab object at 0x7f57d1d07bd0>, 'animal': <gensim.models.keyedvectors.Vocab object at 0x7f57d1d07c10>, 'behavior': <gensim.models.keyedvectors.Vocab object at 0x7f57d1d07c50>, 'first': <gensim.models.keyedvectors.Vocab object at 0x7f57d1d07c90>, 'st': <gensim.models.keyedvectors.Vocab object at 0x7f57d1d07cd0>, 'century': <gensim.models.keyedvectors.Vocab object at 0x7f57d1d07d10>, 'highly': <gensim.models.keyedvectors.Vocab object at 0x7f57d1d07d50>, 'mathematical': <gensim.models.keyedvectors.Vocab object at 0x7f57d1d07d90>, 'statistical': <gensim.models.keyedvectors.Vocab object at 0x7f57d1d07dd0>, 'machine': <gensim.models.keyedvectors.Vocab object at 0x7f57d1d07e10>, 'technique': <gensim.models.keyedvectors.Vocab object at 0x7f57d1d07e50>, 'proved': <gensim.models.keyedvectors.Vocab object at 0x7f57d1d07e90>, 'successful': <gensim.models.keyedvectors.Vocab object at 0x7f57d1d07ed0>, 'helping': <gensim.models.keyedvectors.Vocab object at 0x7f57d1d07f10>, 'solve': <gensim.models.keyedvectors.Vocab object at 0x7f57d1d07f50>, 'problems': <gensim.models.keyedvectors.Vocab object at 0x7f57d1d07f90>, 'industry': <gensim.models.keyedvectors.Vocab object at 0x7f57d1d07fd0>, 'various': <gensim.models.keyedvectors.Vocab object at 0x7f57d1d09050>, 'sub': <gensim.models.keyedvectors.Vocab object at 0x7f57d1d09090>, 'fields': <gensim.models.keyedvectors.Vocab object at 0x7f57d1d090d0>, 'around': <gensim.models.keyedvectors.Vocab object at 0x7f57d1d09110>, 'particular': <gensim.models.keyedvectors.Vocab object at 0x7f57d1d09150>, 'tools': <gensim.models.keyedvectors.Vocab object at 0x7f57d1d09190>, 'reasoning': <gensim.models.keyedvectors.Vocab object at 0x7f57d1d091d0>, 'representation': <gensim.models.keyedvectors.Vocab object at 0x7f57d1d09210>, 'planning': <gensim.models.keyedvectors.Vocab object at 0x7f57d1d09250>, 'language': <gensim.models.keyedvectors.Vocab object at 0x7f57d1d09290>, 'processing': <gensim.models.keyedvectors.Vocab object at 0x7f57d1d092d0>, 'perception': <gensim.models.keyedvectors.Vocab object at 0x7f57d1d09310>, 'ability': <gensim.models.keyedvectors.Vocab object at 0x7f57d1d09350>, 'move': <gensim.models.keyedvectors.Vocab object at 0x7f57d1d09390>, 'objects': <gensim.models.keyedvectors.Vocab object at 0x7f57d1d093d0>, 'c': <gensim.models.keyedvectors.Vocab object at 0x7f57d1d09410>, 'general': <gensim.models.keyedvectors.Vocab object at 0x7f57d1d09450>, 'arbitrary': <gensim.models.keyedvectors.Vocab object at 0x7f57d1d09490>, 'among': <gensim.models.keyedvectors.Vocab object at 0x7f57d1d094d0>, 'long': <gensim.models.keyedvectors.Vocab object at 0x7f57d1d09510>, 'optimization': <gensim.models.keyedvectors.Vocab object at 0x7f57d1d09550>, 'neural': <gensim.models.keyedvectors.Vocab object at 0x7f57d1d09590>, 'networks': <gensim.models.keyedvectors.Vocab object at 0x7f57d1d095d0>, 'methods': <gensim.models.keyedvectors.Vocab object at 0x7f57d1d09610>, 'based': <gensim.models.keyedvectors.Vocab object at 0x7f57d1d09650>, 'statistics': <gensim.models.keyedvectors.Vocab object at 0x7f57d1d09690>, 'probability': <gensim.models.keyedvectors.Vocab object at 0x7f57d1d096d0>, 'economics': <gensim.models.keyedvectors.Vocab object at 0x7f57d1d09710>, 'also': <gensim.models.keyedvectors.Vocab object at 0x7f57d1d09750>, 'upon': <gensim.models.keyedvectors.Vocab object at 0x7f57d1d09790>, 'computer': <gensim.models.keyedvectors.Vocab object at 0x7f57d1d097d0>, 'science': <gensim.models.keyedvectors.Vocab object at 0x7f57d1d09810>, 'psychology': <gensim.models.keyedvectors.Vocab object at 0x7f57d1d09850>, 'philosophy': <gensim.models.keyedvectors.Vocab object at 0x7f57d1d09890>, 'assumption': <gensim.models.keyedvectors.Vocab object at 0x7f57d1d098d0>, 'precisely': <gensim.models.keyedvectors.Vocab object at 0x7f57d1d09910>, 'described': <gensim.models.keyedvectors.Vocab object at 0x7f57d1d09950>, 'made': <gensim.models.keyedvectors.Vocab object at 0x7f57d1d09990>, 'simulate': <gensim.models.keyedvectors.Vocab object at 0x7f57d1d099d0>, 'philosophical': <gensim.models.keyedvectors.Vocab object at 0x7f57d1d09a10>, 'arguments': <gensim.models.keyedvectors.Vocab object at 0x7f57d1d09a50>, 'ethics': <gensim.models.keyedvectors.Vocab object at 0x7f57d1d09a90>, 'creating': <gensim.models.keyedvectors.Vocab object at 0x7f57d1d09ad0>, 'beings': <gensim.models.keyedvectors.Vocab object at 0x7f57d1d09b10>, 'like': <gensim.models.keyedvectors.Vocab object at 0x7f57d1d09b50>, 'issues': <gensim.models.keyedvectors.Vocab object at 0x7f57d1d09b90>, 'explored': <gensim.models.keyedvectors.Vocab object at 0x7f57d1d09bd0>, 'fiction': <gensim.models.keyedvectors.Vocab object at 0x7f57d1d09c10>, 'antiquity': <gensim.models.keyedvectors.Vocab object at 0x7f57d1d09c50>, 'suggested': <gensim.models.keyedvectors.Vocab object at 0x7f57d1d09c90>, 'enormous': <gensim.models.keyedvectors.Vocab object at 0x7f57d1d09cd0>, 'potential': <gensim.models.keyedvectors.Vocab object at 0x7f57d1d09d10>, 'power': <gensim.models.keyedvectors.Vocab object at 0x7f57d1d09d50>, 'may': <gensim.models.keyedvectors.Vocab object at 0x7f57d1d09d90>, 'existential': <gensim.models.keyedvectors.Vocab object at 0x7f57d1d09dd0>, 'risk': <gensim.models.keyedvectors.Vocab object at 0x7f57d1d09e10>, 'humanity': <gensim.models.keyedvectors.Vocab object at 0x7f57d1d09e50>, 'appeared': <gensim.models.keyedvectors.Vocab object at 0x7f57d1d09e90>, 'storytelling': <gensim.models.keyedvectors.Vocab object at 0x7f57d1d09ed0>, 'devices': <gensim.models.keyedvectors.Vocab object at 0x7f57d1d09f10>, 'common': <gensim.models.keyedvectors.Vocab object at 0x7f57d1d09f50>, 'mary': <gensim.models.keyedvectors.Vocab object at 0x7f57d1d09f90>, 'shelley': <gensim.models.keyedvectors.Vocab object at 0x7f57d1d09fd0>, 'frankenstein': <gensim.models.keyedvectors.Vocab object at 0x7f57d1d0d050>, 'karel': <gensim.models.keyedvectors.Vocab object at 0x7f57d1d0d090>, 'apek': <gensim.models.keyedvectors.Vocab object at 0x7f57d1d0d0d0>, 'r': <gensim.models.keyedvectors.Vocab object at 0x7f57d1d0d110>, 'u': <gensim.models.keyedvectors.Vocab object at 0x7f57d1d0d150>, 'raised': <gensim.models.keyedvectors.Vocab object at 0x7f57d1d0d190>, 'discussed': <gensim.models.keyedvectors.Vocab object at 0x7f57d1d0d1d0>, 'began': <gensim.models.keyedvectors.Vocab object at 0x7f57d1d0d210>, 'philosophers': <gensim.models.keyedvectors.Vocab object at 0x7f57d1d0d250>, 'led': <gensim.models.keyedvectors.Vocab object at 0x7f57d1d0d290>, 'directly': <gensim.models.keyedvectors.Vocab object at 0x7f57d1d0d2d0>, 'alan': <gensim.models.keyedvectors.Vocab object at 0x7f57d1d0d310>, 'turing': <gensim.models.keyedvectors.Vocab object at 0x7f57d1d0d350>, 'theory': <gensim.models.keyedvectors.Vocab object at 0x7f57d1d0d390>, 'computation': <gensim.models.keyedvectors.Vocab object at 0x7f57d1d0d3d0>, 'simple': <gensim.models.keyedvectors.Vocab object at 0x7f57d1d0d410>, 'could': <gensim.models.keyedvectors.Vocab object at 0x7f57d1d0d450>, 'act': <gensim.models.keyedvectors.Vocab object at 0x7f57d1d0d490>, 'deduction': <gensim.models.keyedvectors.Vocab object at 0x7f57d1d0d4d0>, 'digital': <gensim.models.keyedvectors.Vocab object at 0x7f57d1d0d510>, 'computers': <gensim.models.keyedvectors.Vocab object at 0x7f57d1d0d550>, 'process': <gensim.models.keyedvectors.Vocab object at 0x7f57d1d0d590>, 'church': <gensim.models.keyedvectors.Vocab object at 0x7f57d1d0d5d0>, 'thesis': <gensim.models.keyedvectors.Vocab object at 0x7f57d1d0d610>, 'neurobiology': <gensim.models.keyedvectors.Vocab object at 0x7f57d1d0d650>, 'information': <gensim.models.keyedvectors.Vocab object at 0x7f57d1d0d690>, 'cybernetics': <gensim.models.keyedvectors.Vocab object at 0x7f57d1d0d6d0>, 'consider': <gensim.models.keyedvectors.Vocab object at 0x7f57d1d0d710>, 'possibility': <gensim.models.keyedvectors.Vocab object at 0x7f57d1d0d750>, 'work': <gensim.models.keyedvectors.Vocab object at 0x7f57d1d0d790>, 'generally': <gensim.models.keyedvectors.Vocab object at 0x7f57d1d0d7d0>, 'design': <gensim.models.keyedvectors.Vocab object at 0x7f57d1d0d810>, 'complete': <gensim.models.keyedvectors.Vocab object at 0x7f57d1d0d850>, 'neurons': <gensim.models.keyedvectors.Vocab object at 0x7f57d1d0d890>, 'access': <gensim.models.keyedvectors.Vocab object at 0x7f57d1d0d8d0>, 'became': <gensim.models.keyedvectors.Vocab object at 0x7f57d1d0d910>, 'possible': <gensim.models.keyedvectors.Vocab object at 0x7f57d1d0d950>, 'mid': <gensim.models.keyedvectors.Vocab object at 0x7f57d1d0d990>, 'reduced': <gensim.models.keyedvectors.Vocab object at 0x7f57d1d0d9d0>, 'symbol': <gensim.models.keyedvectors.Vocab object at 0x7f57d1d0da10>, 'manipulation': <gensim.models.keyedvectors.Vocab object at 0x7f57d1d0da50>, 'produced': <gensim.models.keyedvectors.Vocab object at 0x7f57d1d0da90>, 'programs': <gensim.models.keyedvectors.Vocab object at 0x7f57d1d0dad0>, 'strategies': <gensim.models.keyedvectors.Vocab object at 0x7f57d1d0db10>, 'word': <gensim.models.keyedvectors.Vocab object at 0x7f57d1d0db50>, 'algebra': <gensim.models.keyedvectors.Vocab object at 0x7f57d1d0db90>, 'proving': <gensim.models.keyedvectors.Vocab object at 0x7f57d1d0dbd0>, 'logical': <gensim.models.keyedvectors.Vocab object at 0x7f57d1d0dc10>, 'theorems': <gensim.models.keyedvectors.Vocab object at 0x7f57d1d0dc50>, 'middle': <gensim.models.keyedvectors.Vocab object at 0x7f57d1d0dc90>, 'heavily': <gensim.models.keyedvectors.Vocab object at 0x7f57d1d0dcd0>, 'funded': <gensim.models.keyedvectors.Vocab object at 0x7f57d1d0dd10>, 'established': <gensim.models.keyedvectors.Vocab object at 0x7f57d1d0dd50>, 'world': <gensim.models.keyedvectors.Vocab object at 0x7f57d1d0dd90>, 'symbolic': <gensim.models.keyedvectors.Vocab object at 0x7f57d1d0ddd0>, 'would': <gensim.models.keyedvectors.Vocab object at 0x7f57d1d0de10>, 'eventually': <gensim.models.keyedvectors.Vocab object at 0x7f57d1d0de50>, 'goal': <gensim.models.keyedvectors.Vocab object at 0x7f57d1d0de90>, 'simon': <gensim.models.keyedvectors.Vocab object at 0x7f57d1d0ded0>, 'predicted': <gensim.models.keyedvectors.Vocab object at 0x7f57d1d0df10>, 'within': <gensim.models.keyedvectors.Vocab object at 0x7f57d1d0df50>, 'generation': <gensim.models.keyedvectors.Vocab object at 0x7f57d1d0df90>, 'solved': <gensim.models.keyedvectors.Vocab object at 0x7f57d1d0dfd0>, 'failed': <gensim.models.keyedvectors.Vocab object at 0x7f57d1d10050>, 'recognize': <gensim.models.keyedvectors.Vocab object at 0x7f57d1d10090>, 'us': <gensim.models.keyedvectors.Vocab object at 0x7f57d1d100d0>, 'projects': <gensim.models.keyedvectors.Vocab object at 0x7f57d1d10110>, 'british': <gensim.models.keyedvectors.Vocab object at 0x7f57d1d10150>, 'governments': <gensim.models.keyedvectors.Vocab object at 0x7f57d1d10190>, 'next': <gensim.models.keyedvectors.Vocab object at 0x7f57d1d101d0>, 'later': <gensim.models.keyedvectors.Vocab object at 0x7f57d1d10210>, 'called': <gensim.models.keyedvectors.Vocab object at 0x7f57d1d10250>, 'difficult': <gensim.models.keyedvectors.Vocab object at 0x7f57d1d10290>, 'early': <gensim.models.keyedvectors.Vocab object at 0x7f57d1d102d0>, 'revived': <gensim.models.keyedvectors.Vocab object at 0x7f57d1d10310>, 'commercial': <gensim.models.keyedvectors.Vocab object at 0x7f57d1d10350>, 'form': <gensim.models.keyedvectors.Vocab object at 0x7f57d1d10390>, 'program': <gensim.models.keyedvectors.Vocab object at 0x7f57d1d103d0>, 'simulated': <gensim.models.keyedvectors.Vocab object at 0x7f57d1d10410>, 'skills': <gensim.models.keyedvectors.Vocab object at 0x7f57d1d10450>, 'experts': <gensim.models.keyedvectors.Vocab object at 0x7f57d1d10490>, 'market': <gensim.models.keyedvectors.Vocab object at 0x7f57d1d104d0>, 'billion': <gensim.models.keyedvectors.Vocab object at 0x7f57d1d10510>, 'time': <gensim.models.keyedvectors.Vocab object at 0x7f57d1d10550>, 'japan': <gensim.models.keyedvectors.Vocab object at 0x7f57d1d10590>, 'inspired': <gensim.models.keyedvectors.Vocab object at 0x7f57d1d105d0>, 'beginning': <gensim.models.keyedvectors.Vocab object at 0x7f57d1d10610>, 'longer': <gensim.models.keyedvectors.Vocab object at 0x7f57d1d10650>, 'approach': <gensim.models.keyedvectors.Vocab object at 0x7f57d1d10690>, 'able': <gensim.models.keyedvectors.Vocab object at 0x7f57d1d106d0>, 'processes': <gensim.models.keyedvectors.Vocab object at 0x7f57d1d10710>, 'especially': <gensim.models.keyedvectors.Vocab object at 0x7f57d1d10750>, 'robotics': <gensim.models.keyedvectors.Vocab object at 0x7f57d1d10790>, 'pattern': <gensim.models.keyedvectors.Vocab object at 0x7f57d1d107d0>, 'number': <gensim.models.keyedvectors.Vocab object at 0x7f57d1d10810>, 'specific': <gensim.models.keyedvectors.Vocab object at 0x7f57d1d10850>, 'rodney': <gensim.models.keyedvectors.Vocab object at 0x7f57d1d10890>, 'brooks': <gensim.models.keyedvectors.Vocab object at 0x7f57d1d108d0>, 'engineering': <gensim.models.keyedvectors.Vocab object at 0x7f57d1d10910>, 'allow': <gensim.models.keyedvectors.Vocab object at 0x7f57d1d10950>, 'robots': <gensim.models.keyedvectors.Vocab object at 0x7f57d1d10990>, 'survive': <gensim.models.keyedvectors.Vocab object at 0x7f57d1d109d0>, 'learn': <gensim.models.keyedvectors.Vocab object at 0x7f57d1d10a10>, 'interest': <gensim.models.keyedvectors.Vocab object at 0x7f57d1d10a50>, 'geoffrey': <gensim.models.keyedvectors.Vocab object at 0x7f57d1d10a90>, 'hinton': <gensim.models.keyedvectors.Vocab object at 0x7f57d1d10ad0>, 'david': <gensim.models.keyedvectors.Vocab object at 0x7f57d1d10b10>, 'others': <gensim.models.keyedvectors.Vocab object at 0x7f57d1d10b50>, 'soft': <gensim.models.keyedvectors.Vocab object at 0x7f57d1d10b90>, 'computing': <gensim.models.keyedvectors.Vocab object at 0x7f57d1d10bd0>, 'developed': <gensim.models.keyedvectors.Vocab object at 0x7f57d1d10c10>, 'fuzzy': <gensim.models.keyedvectors.Vocab object at 0x7f57d1d10c50>, 'evolutionary': <gensim.models.keyedvectors.Vocab object at 0x7f57d1d10c90>, 'late': <gensim.models.keyedvectors.Vocab object at 0x7f57d1d10cd0>, 'finding': <gensim.models.keyedvectors.Vocab object at 0x7f57d1d10d10>, 'solutions': <gensim.models.keyedvectors.Vocab object at 0x7f57d1d10d50>, 'narrow': <gensim.models.keyedvectors.Vocab object at 0x7f57d1d10d90>, 'produce': <gensim.models.keyedvectors.Vocab object at 0x7f57d1d10dd0>, 'verifiable': <gensim.models.keyedvectors.Vocab object at 0x7f57d1d10e10>, 'mathematics': <gensim.models.keyedvectors.Vocab object at 0x7f57d1d10e50>, 'widely': <gensim.models.keyedvectors.Vocab object at 0x7f57d1d10e90>, 'although': <gensim.models.keyedvectors.Vocab object at 0x7f57d1d10ed0>, 'rarely': <gensim.models.keyedvectors.Vocab object at 0x7f57d1d10f10>, 'algorithmic': <gensim.models.keyedvectors.Vocab object at 0x7f57d1d10f50>, 'data': <gensim.models.keyedvectors.Vocab object at 0x7f57d1d10f90>, 'hungry': <gensim.models.keyedvectors.Vocab object at 0x7f57d1d10fd0>, 'deep': <gensim.models.keyedvectors.Vocab object at 0x7f57d1d12050>, 'accuracy': <gensim.models.keyedvectors.Vocab object at 0x7f57d1d12090>, 'according': <gensim.models.keyedvectors.Vocab object at 0x7f57d1d120d0>, 'software': <gensim.models.keyedvectors.Vocab object at 0x7f57d1d12110>, 'increased': <gensim.models.keyedvectors.Vocab object at 0x7f57d1d12150>, 'j': <gensim.models.keyedvectors.Vocab object at 0x7f57d1d12190>, 'increase': <gensim.models.keyedvectors.Vocab object at 0x7f57d1d121d0>, 'due': <gensim.models.keyedvectors.Vocab object at 0x7f57d1d12210>, 'survey': <gensim.models.keyedvectors.Vocab object at 0x7f57d1d12250>, 'one': <gensim.models.keyedvectors.Vocab object at 0x7f57d1d12290>, 'companies': <gensim.models.keyedvectors.Vocab object at 0x7f57d1d122d0>, 'reported': <gensim.models.keyedvectors.Vocab object at 0x7f57d1d12310>, 'incorporated': <gensim.models.keyedvectors.Vocab object at 0x7f57d1d12350>, 'total': <gensim.models.keyedvectors.Vocab object at 0x7f57d1d12390>, 'concerned': <gensim.models.keyedvectors.Vocab object at 0x7f57d1d123d0>, 'fully': <gensim.models.keyedvectors.Vocab object at 0x7f57d1d12410>, 'even': <gensim.models.keyedvectors.Vocab object at 0x7f57d1d12450>, 'techniques': <gensim.models.keyedvectors.Vocab object at 0x7f57d1d12490>, 'agi': <gensim.models.keyedvectors.Vocab object at 0x7f57d1d124d0>, 'well': <gensim.models.keyedvectors.Vocab object at 0x7f57d1d12510>, 'institutions': <gensim.models.keyedvectors.Vocab object at 0x7f57d1d12550>, 'traits': <gensim.models.keyedvectors.Vocab object at 0x7f57d1d12590>, 'capabilities': <gensim.models.keyedvectors.Vocab object at 0x7f57d1d125d0>, 'expect': <gensim.models.keyedvectors.Vocab object at 0x7f57d1d12610>, 'received': <gensim.models.keyedvectors.Vocab object at 0x7f57d1d12650>, 'algorithms': <gensim.models.keyedvectors.Vocab object at 0x7f57d1d12690>, 'step': <gensim.models.keyedvectors.Vocab object at 0x7f57d1d126d0>, 'puzzles': <gensim.models.keyedvectors.Vocab object at 0x7f57d1d12710>, 'make': <gensim.models.keyedvectors.Vocab object at 0x7f57d1d12750>, 'deductions': <gensim.models.keyedvectors.Vocab object at 0x7f57d1d12790>, 'uncertain': <gensim.models.keyedvectors.Vocab object at 0x7f57d1d127d0>, 'incomplete': <gensim.models.keyedvectors.Vocab object at 0x7f57d1d12810>, 'concepts': <gensim.models.keyedvectors.Vocab object at 0x7f57d1d12850>, 'explosion': <gensim.models.keyedvectors.Vocab object at 0x7f57d1d12890>, 'exponentially': <gensim.models.keyedvectors.Vocab object at 0x7f57d1d128d0>, 'model': <gensim.models.keyedvectors.Vocab object at 0x7f57d1d12910>, 'using': <gensim.models.keyedvectors.Vocab object at 0x7f57d1d12950>, 'fast': <gensim.models.keyedvectors.Vocab object at 0x7f57d1d12990>, 'questions': <gensim.models.keyedvectors.Vocab object at 0x7f57d1d129d0>, 'intelligently': <gensim.models.keyedvectors.Vocab object at 0x7f57d1d12a10>, 'real': <gensim.models.keyedvectors.Vocab object at 0x7f57d1d12a50>, 'facts': <gensim.models.keyedvectors.Vocab object at 0x7f57d1d12a90>, 'exists': <gensim.models.keyedvectors.Vocab object at 0x7f57d1d12ad0>, 'ontology': <gensim.models.keyedvectors.Vocab object at 0x7f57d1d12b10>, 'set': <gensim.models.keyedvectors.Vocab object at 0x7f57d1d12b50>, 'relations': <gensim.models.keyedvectors.Vocab object at 0x7f57d1d12b90>, 'properties': <gensim.models.keyedvectors.Vocab object at 0x7f57d1d12bd0>, 'interpret': <gensim.models.keyedvectors.Vocab object at 0x7f57d1d12c10>, 'ontologies': <gensim.models.keyedvectors.Vocab object at 0x7f57d1d12c50>, 'attempt': <gensim.models.keyedvectors.Vocab object at 0x7f57d1d12c90>, 'domain': <gensim.models.keyedvectors.Vocab object at 0x7f57d1d12cd0>, 'area': <gensim.models.keyedvectors.Vocab object at 0x7f57d1d12d10>, 'concern': <gensim.models.keyedvectors.Vocab object at 0x7f57d1d12d50>, 'need': <gensim.models.keyedvectors.Vocab object at 0x7f57d1d12d90>, 'commonsense': <gensim.models.keyedvectors.Vocab object at 0x7f57d1d12dd0>, 'average': <gensim.models.keyedvectors.Vocab object at 0x7f57d1d12e10>, 'person': <gensim.models.keyedvectors.Vocab object at 0x7f57d1d12e50>, 'knows': <gensim.models.keyedvectors.Vocab object at 0x7f57d1d12e90>, 'typically': <gensim.models.keyedvectors.Vocab object at 0x7f57d1d12ed0>, 'represented': <gensim.models.keyedvectors.Vocab object at 0x7f57d1d12f10>, 'description': <gensim.models.keyedvectors.Vocab object at 0x7f57d1d12f50>, 'domains': <gensim.models.keyedvectors.Vocab object at 0x7f57d1d12f90>, 'categories': <gensim.models.keyedvectors.Vocab object at 0x7f57d1d12fd0>, 'events': <gensim.models.keyedvectors.Vocab object at 0x7f57d1d16050>, 'states': <gensim.models.keyedvectors.Vocab object at 0x7f57d1d16090>, 'know': <gensim.models.keyedvectors.Vocab object at 0x7f57d1d160d0>, 'people': <gensim.models.keyedvectors.Vocab object at 0x7f57d1d16110>, 'default': <gensim.models.keyedvectors.Vocab object at 0x7f57d1d16150>, 'assume': <gensim.models.keyedvectors.Vocab object at 0x7f57d1d16190>, 'true': <gensim.models.keyedvectors.Vocab object at 0x7f57d1d161d0>, 'told': <gensim.models.keyedvectors.Vocab object at 0x7f57d1d16210>, 'changing': <gensim.models.keyedvectors.Vocab object at 0x7f57d1d16250>, 'breadth': <gensim.models.keyedvectors.Vocab object at 0x7f57d1d16290>, 'much': <gensim.models.keyedvectors.Vocab object at 0x7f57d1d162d0>, 'statements': <gensim.models.keyedvectors.Vocab object at 0x7f57d1d16310>, 'express': <gensim.models.keyedvectors.Vocab object at 0x7f57d1d16350>, 'retrieval': <gensim.models.keyedvectors.Vocab object at 0x7f57d1d16390>, 'decision': <gensim.models.keyedvectors.Vocab object at 0x7f57d1d163d0>, 'support': <gensim.models.keyedvectors.Vocab object at 0x7f57d1d16410>, 'discovery': <gensim.models.keyedvectors.Vocab object at 0x7f57d1d16450>, 'areas': <gensim.models.keyedvectors.Vocab object at 0x7f57d1d16490>, 'agent': <gensim.models.keyedvectors.Vocab object at 0x7f57d1d164d0>, 'plan': <gensim.models.keyedvectors.Vocab object at 0x7f57d1d16510>, 'makes': <gensim.models.keyedvectors.Vocab object at 0x7f57d1d16550>, 'state': <gensim.models.keyedvectors.Vocab object at 0x7f57d1d16590>, 'predictions': <gensim.models.keyedvectors.Vocab object at 0x7f57d1d165d0>, 'change': <gensim.models.keyedvectors.Vocab object at 0x7f57d1d16610>, 'choices': <gensim.models.keyedvectors.Vocab object at 0x7f57d1d16650>, 'utility': <gensim.models.keyedvectors.Vocab object at 0x7f57d1d16690>, 'value': <gensim.models.keyedvectors.Vocab object at 0x7f57d1d166d0>, 'available': <gensim.models.keyedvectors.Vocab object at 0x7f57d1d16710>, 'certain': <gensim.models.keyedvectors.Vocab object at 0x7f57d1d16750>, 'requires': <gensim.models.keyedvectors.Vocab object at 0x7f57d1d16790>, 'reason': <gensim.models.keyedvectors.Vocab object at 0x7f57d1d167d0>, 'uncertainty': <gensim.models.keyedvectors.Vocab object at 0x7f57d1d16810>, 'assess': <gensim.models.keyedvectors.Vocab object at 0x7f57d1d16850>, 'multi': <gensim.models.keyedvectors.Vocab object at 0x7f57d1d16890>, 'uses': <gensim.models.keyedvectors.Vocab object at 0x7f57d1d168d0>, 'achieve': <gensim.models.keyedvectors.Vocab object at 0x7f57d1d16910>, 'given': <gensim.models.keyedvectors.Vocab object at 0x7f57d1d16950>, 'swarm': <gensim.models.keyedvectors.Vocab object at 0x7f57d1d16990>, 'fundamental': <gensim.models.keyedvectors.Vocab object at 0x7f57d1d169d0>, 'concept': <gensim.models.keyedvectors.Vocab object at 0x7f57d1d16a10>, 'k': <gensim.models.keyedvectors.Vocab object at 0x7f57d1d16a50>, 'improve': <gensim.models.keyedvectors.Vocab object at 0x7f57d1d16a90>, 'experience': <gensim.models.keyedvectors.Vocab object at 0x7f57d1d16ad0>, 'unsupervised': <gensim.models.keyedvectors.Vocab object at 0x7f57d1d16b10>, 'finds': <gensim.models.keyedvectors.Vocab object at 0x7f57d1d16b50>, 'patterns': <gensim.models.keyedvectors.Vocab object at 0x7f57d1d16b90>, 'input': <gensim.models.keyedvectors.Vocab object at 0x7f57d1d16bd0>, 'supervised': <gensim.models.keyedvectors.Vocab object at 0x7f57d1d16c10>, 'two': <gensim.models.keyedvectors.Vocab object at 0x7f57d1d16c50>, 'main': <gensim.models.keyedvectors.Vocab object at 0x7f57d1d16c90>, 'classification': <gensim.models.keyedvectors.Vocab object at 0x7f57d1d16cd0>, 'regression': <gensim.models.keyedvectors.Vocab object at 0x7f57d1d16d10>, 'determine': <gensim.models.keyedvectors.Vocab object at 0x7f57d1d16d50>, 'something': <gensim.models.keyedvectors.Vocab object at 0x7f57d1d16d90>, 'belongs': <gensim.models.keyedvectors.Vocab object at 0x7f57d1d16dd0>, 'examples': <gensim.models.keyedvectors.Vocab object at 0x7f57d1d16e10>, 'classify': <gensim.models.keyedvectors.Vocab object at 0x7f57d1d16e50>, 'inputs': <gensim.models.keyedvectors.Vocab object at 0x7f57d1d16e90>, 'function': <gensim.models.keyedvectors.Vocab object at 0x7f57d1d16ed0>, 'describes': <gensim.models.keyedvectors.Vocab object at 0x7f57d1d16f10>, 'relationship': <gensim.models.keyedvectors.Vocab object at 0x7f57d1d16f50>, 'outputs': <gensim.models.keyedvectors.Vocab object at 0x7f57d1d16f90>, 'classifiers': <gensim.models.keyedvectors.Vocab object at 0x7f57d1d16fd0>, 'learners': <gensim.models.keyedvectors.Vocab object at 0x7f57d1d1a050>, 'viewed': <gensim.models.keyedvectors.Vocab object at 0x7f57d1d1a090>, 'example': <gensim.models.keyedvectors.Vocab object at 0x7f57d1d1a0d0>, 'spam': <gensim.models.keyedvectors.Vocab object at 0x7f57d1d1a110>, 'classifier': <gensim.models.keyedvectors.Vocab object at 0x7f57d1d1a150>, 'text': <gensim.models.keyedvectors.Vocab object at 0x7f57d1d1a190>, 'reinforcement': <gensim.models.keyedvectors.Vocab object at 0x7f57d1d1a1d0>, 'good': <gensim.models.keyedvectors.Vocab object at 0x7f57d1d1a210>, 'responses': <gensim.models.keyedvectors.Vocab object at 0x7f57d1d1a250>, 'ones': <gensim.models.keyedvectors.Vocab object at 0x7f57d1d1a290>, 'classifies': <gensim.models.keyedvectors.Vocab object at 0x7f57d1d1a2d0>, 'strategy': <gensim.models.keyedvectors.Vocab object at 0x7f57d1d1a310>, 'space': <gensim.models.keyedvectors.Vocab object at 0x7f57d1d1a350>, 'computational': <gensim.models.keyedvectors.Vocab object at 0x7f57d1d1a390>, 'complexity': <gensim.models.keyedvectors.Vocab object at 0x7f57d1d1a3d0>, 'sample': <gensim.models.keyedvectors.Vocab object at 0x7f57d1d1a410>, 'required': <gensim.models.keyedvectors.Vocab object at 0x7f57d1d1a450>, 'nlp': <gensim.models.keyedvectors.Vocab object at 0x7f57d1d1a490>, 'allows': <gensim.models.keyedvectors.Vocab object at 0x7f57d1d1a4d0>, 'understand': <gensim.models.keyedvectors.Vocab object at 0x7f57d1d1a510>, 'sufficiently': <gensim.models.keyedvectors.Vocab object at 0x7f57d1d1a550>, 'powerful': <gensim.models.keyedvectors.Vocab object at 0x7f57d1d1a590>, 'written': <gensim.models.keyedvectors.Vocab object at 0x7f57d1d1a5d0>, 'sources': <gensim.models.keyedvectors.Vocab object at 0x7f57d1d1a610>, 'texts': <gensim.models.keyedvectors.Vocab object at 0x7f57d1d1a650>, 'question': <gensim.models.keyedvectors.Vocab object at 0x7f57d1d1a690>, 'translation': <gensim.models.keyedvectors.Vocab object at 0x7f57d1d1a6d0>, 'useful': <gensim.models.keyedvectors.Vocab object at 0x7f57d1d1a710>, 'modern': <gensim.models.keyedvectors.Vocab object at 0x7f57d1d1a750>, 'occurrence': <gensim.models.keyedvectors.Vocab object at 0x7f57d1d1a790>, 'appears': <gensim.models.keyedvectors.Vocab object at 0x7f57d1d1a7d0>, 'another': <gensim.models.keyedvectors.Vocab object at 0x7f57d1d1a810>, 'searching': <gensim.models.keyedvectors.Vocab object at 0x7f57d1d1a850>, 'sensors': <gensim.models.keyedvectors.Vocab object at 0x7f57d1d1a890>, 'signals': <gensim.models.keyedvectors.Vocab object at 0x7f57d1d1a8d0>, 'facial': <gensim.models.keyedvectors.Vocab object at 0x7f57d1d1a910>, 'object': <gensim.models.keyedvectors.Vocab object at 0x7f57d1d1a950>, 'vision': <gensim.models.keyedvectors.Vocab object at 0x7f57d1d1a990>, 'analyze': <gensim.models.keyedvectors.Vocab object at 0x7f57d1d1a9d0>, 'visual': <gensim.models.keyedvectors.Vocab object at 0x7f57d1d1aa10>, 'robot': <gensim.models.keyedvectors.Vocab object at 0x7f57d1d1aa50>, 'visible': <gensim.models.keyedvectors.Vocab object at 0x7f57d1d1aa90>, 'easy': <gensim.models.keyedvectors.Vocab object at 0x7f57d1d1aad0>, 'dynamic': <gensim.models.keyedvectors.Vocab object at 0x7f57d1d1ab10>, 'body': <gensim.models.keyedvectors.Vocab object at 0x7f57d1d1ab50>, 'motion': <gensim.models.keyedvectors.Vocab object at 0x7f57d1d1ab90>, 'movement': <gensim.models.keyedvectors.Vocab object at 0x7f57d1d1abd0>, 'task': <gensim.models.keyedvectors.Vocab object at 0x7f57d1d1ac10>, 'individual': <gensim.models.keyedvectors.Vocab object at 0x7f57d1d1ac50>, 'involves': <gensim.models.keyedvectors.Vocab object at 0x7f57d1d1ac90>, 'physical': <gensim.models.keyedvectors.Vocab object at 0x7f57d1d1acd0>, 'despite': <gensim.models.keyedvectors.Vocab object at 0x7f57d1d1ad10>, 'affective': <gensim.models.keyedvectors.Vocab object at 0x7f57d1d1ad50>, 'virtual': <gensim.models.keyedvectors.Vocab object at 0x7f57d1d1ad90>, 'assistants': <gensim.models.keyedvectors.Vocab object at 0x7f57d1d1add0>, 'programmed': <gensim.models.keyedvectors.Vocab object at 0x7f57d1d1ae10>, 'interaction': <gensim.models.keyedvectors.Vocab object at 0x7f57d1d1ae50>, 'otherwise': <gensim.models.keyedvectors.Vocab object at 0x7f57d1d1ae90>, 'actually': <gensim.models.keyedvectors.Vocab object at 0x7f57d1d1aed0>, 'successes': <gensim.models.keyedvectors.Vocab object at 0x7f57d1d1af10>, 'related': <gensim.models.keyedvectors.Vocab object at 0x7f57d1d1af50>, 'sentiment': <gensim.models.keyedvectors.Vocab object at 0x7f57d1d1af90>, 'analysis': <gensim.models.keyedvectors.Vocab object at 0x7f57d1d1afd0>, 'current': <gensim.models.keyedvectors.Vocab object at 0x7f57d1d1d050>, 'part': <gensim.models.keyedvectors.Vocab object at 0x7f57d1d1d090>, 'exactly': <gensim.models.keyedvectors.Vocab object at 0x7f57d1d1d0d0>, 'point': <gensim.models.keyedvectors.Vocab object at 0x7f57d1d1d110>, 'studies': <gensim.models.keyedvectors.Vocab object at 0x7f57d1d1d150>, 'exclusively': <gensim.models.keyedvectors.Vocab object at 0x7f57d1d1d190>, 'theoretically': <gensim.models.keyedvectors.Vocab object at 0x7f57d1d1d1d0>, 'path': <gensim.models.keyedvectors.Vocab object at 0x7f57d1d1d210>, 'application': <gensim.models.keyedvectors.Vocab object at 0x7f57d1d1d250>, 'inference': <gensim.models.keyedvectors.Vocab object at 0x7f57d1d1d290>, 'find': <gensim.models.keyedvectors.Vocab object at 0x7f57d1d1d2d0>, 'target': <gensim.models.keyedvectors.Vocab object at 0x7f57d1d1d310>, 'means': <gensim.models.keyedvectors.Vocab object at 0x7f57d1d1d350>, 'moving': <gensim.models.keyedvectors.Vocab object at 0x7f57d1d1d390>, 'searches': <gensim.models.keyedvectors.Vocab object at 0x7f57d1d1d3d0>, 'sufficient': <gensim.models.keyedvectors.Vocab object at 0x7f57d1d1d410>, 'solution': <gensim.models.keyedvectors.Vocab object at 0x7f57d1d1d450>, 'heuristics': <gensim.models.keyedvectors.Vocab object at 0x7f57d1d1d490>, 'likely': <gensim.models.keyedvectors.Vocab object at 0x7f57d1d1d4d0>, 'reach': <gensim.models.keyedvectors.Vocab object at 0x7f57d1d1d510>, 'steps': <gensim.models.keyedvectors.Vocab object at 0x7f57d1d1d550>, 'lead': <gensim.models.keyedvectors.Vocab object at 0x7f57d1d1d590>, 'tree': <gensim.models.keyedvectors.Vocab object at 0x7f57d1d1d5d0>, 'supply': <gensim.models.keyedvectors.Vocab object at 0x7f57d1d1d610>, 'best': <gensim.models.keyedvectors.Vocab object at 0x7f57d1d1d650>, 'guess': <gensim.models.keyedvectors.Vocab object at 0x7f57d1d1d690>, 'size': <gensim.models.keyedvectors.Vocab object at 0x7f57d1d1d6d0>, 'came': <gensim.models.keyedvectors.Vocab object at 0x7f57d1d1d710>, 'begin': <gensim.models.keyedvectors.Vocab object at 0x7f57d1d1d750>, 'blind': <gensim.models.keyedvectors.Vocab object at 0x7f57d1d1d790>, 'random': <gensim.models.keyedvectors.Vocab object at 0x7f57d1d1d7d0>, 'landscape': <gensim.models.keyedvectors.Vocab object at 0x7f57d1d1d810>, 'top': <gensim.models.keyedvectors.Vocab object at 0x7f57d1d1d850>, 'guesses': <gensim.models.keyedvectors.Vocab object at 0x7f57d1d1d890>, 'genetic': <gensim.models.keyedvectors.Vocab object at 0x7f57d1d1d8d0>, 'expression': <gensim.models.keyedvectors.Vocab object at 0x7f57d1d1d910>, 'programming': <gensim.models.keyedvectors.Vocab object at 0x7f57d1d1d950>, 'ant': <gensim.models.keyedvectors.Vocab object at 0x7f57d1d1d990>, 'applied': <gensim.models.keyedvectors.Vocab object at 0x7f57d1d1d9d0>, 'algorithm': <gensim.models.keyedvectors.Vocab object at 0x7f57d1d1da10>, 'forms': <gensim.models.keyedvectors.Vocab object at 0x7f57d1d1da50>, 'truth': <gensim.models.keyedvectors.Vocab object at 0x7f57d1d1da90>, 'order': <gensim.models.keyedvectors.Vocab object at 0x7f57d1d1dad0>, 'degree': <gensim.models.keyedvectors.Vocab object at 0x7f57d1d1db10>, 'logics': <gensim.models.keyedvectors.Vocab object at 0x7f57d1d1db50>, 'non': <gensim.models.keyedvectors.Vocab object at 0x7f57d1d1db90>, 'designed': <gensim.models.keyedvectors.Vocab object at 0x7f57d1d1dbd0>, 'situation': <gensim.models.keyedvectors.Vocab object at 0x7f57d1d1dc10>, 'calculus': <gensim.models.keyedvectors.Vocab object at 0x7f57d1d1dc50>, 'belief': <gensim.models.keyedvectors.Vocab object at 0x7f57d1d1dc90>, 'bayesian': <gensim.models.keyedvectors.Vocab object at 0x7f57d1d1dcd0>, 'n': <gensim.models.keyedvectors.Vocab object at 0x7f57d1d1dd10>, 'filtering': <gensim.models.keyedvectors.Vocab object at 0x7f57d1d1dd50>, 'prediction': <gensim.models.keyedvectors.Vocab object at 0x7f57d1d1dd90>, 'markov': <gensim.models.keyedvectors.Vocab object at 0x7f57d1d1ddd0>, 'models': <gensim.models.keyedvectors.Vocab object at 0x7f57d1d1de10>, 'measure': <gensim.models.keyedvectors.Vocab object at 0x7f57d1d1de50>, 'valuable': <gensim.models.keyedvectors.Vocab object at 0x7f57d1d1de90>, 'simplest': <gensim.models.keyedvectors.Vocab object at 0x7f57d1d1ded0>, 'divided': <gensim.models.keyedvectors.Vocab object at 0x7f57d1d1df10>, 'diamond': <gensim.models.keyedvectors.Vocab object at 0x7f57d1d1df50>, 'controllers': <gensim.models.keyedvectors.Vocab object at 0x7f57d1d1df90>, 'therefore': <gensim.models.keyedvectors.Vocab object at 0x7f57d1d1dfd0>, 'central': <gensim.models.keyedvectors.Vocab object at 0x7f57d1d20050>, 'matching': <gensim.models.keyedvectors.Vocab object at 0x7f57d1d20090>, 'making': <gensim.models.keyedvectors.Vocab object at 0x7f57d1d200d0>, 'observations': <gensim.models.keyedvectors.Vocab object at 0x7f57d1d20110>, 'class': <gensim.models.keyedvectors.Vocab object at 0x7f57d1d20150>, 'combined': <gensim.models.keyedvectors.Vocab object at 0x7f57d1d20190>, 'observation': <gensim.models.keyedvectors.Vocab object at 0x7f57d1d201d0>, 'classified': <gensim.models.keyedvectors.Vocab object at 0x7f57d1d20210>, 'previous': <gensim.models.keyedvectors.Vocab object at 0x7f57d1d20250>, 'trained': <gensim.models.keyedvectors.Vocab object at 0x7f57d1d20290>, 'nearest': <gensim.models.keyedvectors.Vocab object at 0x7f57d1d202d0>, 'neighbor': <gensim.models.keyedvectors.Vocab object at 0x7f57d1d20310>, 'svm': <gensim.models.keyedvectors.Vocab object at 0x7f57d1d20350>, 'naive': <gensim.models.keyedvectors.Vocab object at 0x7f57d1d20390>, 'bayes': <gensim.models.keyedvectors.Vocab object at 0x7f57d1d203d0>, 'scalability': <gensim.models.keyedvectors.Vocab object at 0x7f57d1d20410>, 'performance': <gensim.models.keyedvectors.Vocab object at 0x7f57d1d20450>, 'depends': <gensim.models.keyedvectors.Vocab object at 0x7f57d1d20490>, 'perform': <gensim.models.keyedvectors.Vocab object at 0x7f57d1d204d0>, 'extremely': <gensim.models.keyedvectors.Vocab object at 0x7f57d1d20510>, 'rather': <gensim.models.keyedvectors.Vocab object at 0x7f57d1d20550>, 'speed': <gensim.models.keyedvectors.Vocab object at 0x7f57d1d20590>, 'architecture': <gensim.models.keyedvectors.Vocab object at 0x7f57d1d205d0>, 'neuron': <gensim.models.keyedvectors.Vocab object at 0x7f57d1d20610>, 'whether': <gensim.models.keyedvectors.Vocab object at 0x7f57d1d20650>, 'training': <gensim.models.keyedvectors.Vocab object at 0x7f57d1d20690>, 'fire': <gensim.models.keyedvectors.Vocab object at 0x7f57d1d206d0>, 'together': <gensim.models.keyedvectors.Vocab object at 0x7f57d1d20710>, 'wire': <gensim.models.keyedvectors.Vocab object at 0x7f57d1d20750>, 'activation': <gensim.models.keyedvectors.Vocab object at 0x7f57d1d20790>, 'complex': <gensim.models.keyedvectors.Vocab object at 0x7f57d1d207d0>, 'relationships': <gensim.models.keyedvectors.Vocab object at 0x7f57d1d20810>, 'gradient': <gensim.models.keyedvectors.Vocab object at 0x7f57d1d20850>, 'descent': <gensim.models.keyedvectors.Vocab object at 0x7f57d1d20890>, 'created': <gensim.models.keyedvectors.Vocab object at 0x7f57d1d208d0>, 'network': <gensim.models.keyedvectors.Vocab object at 0x7f57d1d20910>, 'backpropagation': <gensim.models.keyedvectors.Vocab object at 0x7f57d1d20950>, 'competitive': <gensim.models.keyedvectors.Vocab object at 0x7f57d1d20990>, 'feedforward': <gensim.models.keyedvectors.Vocab object at 0x7f57d1d209d0>, 'recurrent': <gensim.models.keyedvectors.Vocab object at 0x7f57d1d20a10>, 'short': <gensim.models.keyedvectors.Vocab object at 0x7f57d1d20a50>, 'perceptrons': <gensim.models.keyedvectors.Vocab object at 0x7f57d1d20a90>, 'layer': <gensim.models.keyedvectors.Vocab object at 0x7f57d1d20ad0>, 'basis': <gensim.models.keyedvectors.Vocab object at 0x7f57d1d20b10>, 'layers': <gensim.models.keyedvectors.Vocab object at 0x7f57d1d20b50>, 'improved': <gensim.models.keyedvectors.Vocab object at 0x7f57d1d20b90>, 'important': <gensim.models.keyedvectors.Vocab object at 0x7f57d1d20bd0>, 'introduced': <gensim.models.keyedvectors.Vocab object at 0x7f57d1d20c10>, 'colleagues': <gensim.models.keyedvectors.Vocab object at 0x7f57d1d20c50>, 'published': <gensim.models.keyedvectors.Vocab object at 0x7f57d1d20c90>, 'ivakhnenko': <gensim.models.keyedvectors.Vocab object at 0x7f57d1d20cd0>, 'already': <gensim.models.keyedvectors.Vocab object at 0x7f57d1d20d10>, 'way': <gensim.models.keyedvectors.Vocab object at 0x7f57d1d20d50>, 'pre': <gensim.models.keyedvectors.Vocab object at 0x7f57d1d20d90>, 'similar': <gensim.models.keyedvectors.Vocab object at 0x7f57d1d20dd0>, 'convolutional': <gensim.models.keyedvectors.Vocab object at 0x7f57d1d20e10>, 'cnns': <gensim.models.keyedvectors.Vocab object at 0x7f57d1d20e50>, 'back': <gensim.models.keyedvectors.Vocab object at 0x7f57d1d20e90>, 'industrial': <gensim.models.keyedvectors.Vocab object at 0x7f57d1d20ed0>, 'champion': <gensim.models.keyedvectors.Vocab object at 0x7f57d1d20f10>, 'sequence': <gensim.models.keyedvectors.Vocab object at 0x7f57d1d20f50>, 'rnns': <gensim.models.keyedvectors.Vocab object at 0x7f57d1d20f90>, 'rnn': <gensim.models.keyedvectors.Vocab object at 0x7f57d1d20fd0>, 'thus': <gensim.models.keyedvectors.Vocab object at 0x7f57d1d24050>, 'suffer': <gensim.models.keyedvectors.Vocab object at 0x7f57d1d24090>, 'numerous': <gensim.models.keyedvectors.Vocab object at 0x7f57d1d240d0>, 'lstm': <gensim.models.keyedvectors.Vocab object at 0x7f57d1d24110>, 'ctc': <gensim.models.keyedvectors.Vocab object at 0x7f57d1d24150>, 'microsoft': <gensim.models.keyedvectors.Vocab object at 0x7f57d1d24190>, 'list': <gensim.models.keyedvectors.Vocab object at 0x7f57d1d241d0>, 'mainstream': <gensim.models.keyedvectors.Vocab object at 0x7f57d1d24210>, 'autonomous': <gensim.models.keyedvectors.Vocab object at 0x7f57d1d24250>, 'high': <gensim.models.keyedvectors.Vocab object at 0x7f57d1d24290>, 'profile': <gensim.models.keyedvectors.Vocab object at 0x7f57d1d242d0>, 'experimental': <gensim.models.keyedvectors.Vocab object at 0x7f57d1d24310>, 'deepfakes': <gensim.models.keyedvectors.Vocab object at 0x7f57d1d24350>, 'decisions': <gensim.models.keyedvectors.Vocab object at 0x7f57d1d24390>, 'public': <gensim.models.keyedvectors.Vocab object at 0x7f57d1d243d0>, 'consciousness': <gensim.models.keyedvectors.Vocab object at 0x7f57d1d24410>, 'wrote': <gensim.models.keyedvectors.Vocab object at 0x7f57d1d24450>, 'show': <gensim.models.keyedvectors.Vocab object at 0x7f57d1d24490>, 'thing': <gensim.models.keyedvectors.Vocab object at 0x7f57d1d244d0>, 'conscious': <gensim.models.keyedvectors.Vocab object at 0x7f57d1d24510>, 'simulation': <gensim.models.keyedvectors.Vocab object at 0x7f57d1d24550>, 'thinking': <gensim.models.keyedvectors.Vocab object at 0x7f57d1d24590>, 'idea': <gensim.models.keyedvectors.Vocab object at 0x7f57d1d245d0>, 'test': <gensim.models.keyedvectors.Vocab object at 0x7f57d1d24610>, 'founder': <gensim.models.keyedvectors.Vocab object at 0x7f57d1d24650>, 'john': <gensim.models.keyedvectors.Vocab object at 0x7f57d1d24690>, 'russell': <gensim.models.keyedvectors.Vocab object at 0x7f57d1d246d0>, 'norvig': <gensim.models.keyedvectors.Vocab object at 0x7f57d1d24710>, 'agree': <gensim.models.keyedvectors.Vocab object at 0x7f57d1d24750>, 'pigeons': <gensim.models.keyedvectors.Vocab object at 0x7f57d1d24790>, 'argued': <gensim.models.keyedvectors.Vocab object at 0x7f57d1d247d0>, 'paradigm': <gensim.models.keyedvectors.Vocab object at 0x7f57d1d24810>, 'provides': <gensim.models.keyedvectors.Vocab object at 0x7f57d1d24850>, 'scientific': <gensim.models.keyedvectors.Vocab object at 0x7f57d1d24890>, 'history': <gensim.models.keyedvectors.Vocab object at 0x7f57d1d248d0>, 'see': <gensim.models.keyedvectors.Vocab object at 0x7f57d1d24910>, 'critics': <gensim.models.keyedvectors.Vocab object at 0x7f57d1d24950>, 'argue': <gensim.models.keyedvectors.Vocab object at 0x7f57d1d24990>, 'future': <gensim.models.keyedvectors.Vocab object at 0x7f57d1d249d0>, 'proposed': <gensim.models.keyedvectors.Vocab object at 0x7f57d1d24a10>, 'necessary': <gensim.models.keyedvectors.Vocab object at 0x7f57d1d24a50>, 'moravec': <gensim.models.keyedvectors.Vocab object at 0x7f57d1d24a90>, 'philosopher': <gensim.models.keyedvectors.Vocab object at 0x7f57d1d24ad0>, 'feel': <gensim.models.keyedvectors.Vocab object at 0x7f57d1d24b10>, 'issue': <gensim.models.keyedvectors.Vocab object at 0x7f57d1d24b50>, 'bias': <gensim.models.keyedvectors.Vocab object at 0x7f57d1d24b90>, 'still': <gensim.models.keyedvectors.Vocab object at 0x7f57d1d24bd0>, 'away': <gensim.models.keyedvectors.Vocab object at 0x7f57d1d24c10>, 'impossible': <gensim.models.keyedvectors.Vocab object at 0x7f57d1d24c50>, 'neats': <gensim.models.keyedvectors.Vocab object at 0x7f57d1d24c90>, 'principles': <gensim.models.keyedvectors.Vocab object at 0x7f57d1d24cd0>, 'provably': <gensim.models.keyedvectors.Vocab object at 0x7f57d1d24d10>, 'superintelligence': <gensim.models.keyedvectors.Vocab object at 0x7f57d1d24d50>, 'sense': <gensim.models.keyedvectors.Vocab object at 0x7f57d1d24d90>, 'considers': <gensim.models.keyedvectors.Vocab object at 0x7f57d1d24dd0>, 'stuart': <gensim.models.keyedvectors.Vocab object at 0x7f57d1d24e10>, 'peter': <gensim.models.keyedvectors.Vocab object at 0x7f57d1d24e50>, 'care': <gensim.models.keyedvectors.Vocab object at 0x7f57d1d24e90>, 'works': <gensim.models.keyedvectors.Vocab object at 0x7f57d1d24ed0>, 'named': <gensim.models.keyedvectors.Vocab object at 0x7f57d1d24f10>, 'hard': <gensim.models.keyedvectors.Vocab object at 0x7f57d1d24f50>, 'explain': <gensim.models.keyedvectors.Vocab object at 0x7f57d1d24f90>, 'subjective': <gensim.models.keyedvectors.Vocab object at 0x7f57d1d24fd0>, 'learned': <gensim.models.keyedvectors.Vocab object at 0x7f57d1d28050>, 'red': <gensim.models.keyedvectors.Vocab object at 0x7f57d1d28090>, 'computationalism': <gensim.models.keyedvectors.Vocab object at 0x7f57d1d280d0>, 'position': <gensim.models.keyedvectors.Vocab object at 0x7f57d1d28110>, 'argues': <gensim.models.keyedvectors.Vocab object at 0x7f57d1d28150>, 'searle': <gensim.models.keyedvectors.Vocab object at 0x7f57d1d28190>, 'rights': <gensim.models.keyedvectors.Vocab object at 0x7f57d1d281d0>, 'hypothetical': <gensim.models.keyedvectors.Vocab object at 0x7f57d1d28210>, 'centuries': <gensim.models.keyedvectors.Vocab object at 0x7f57d1d28250>, 'institute': <gensim.models.keyedvectors.Vocab object at 0x7f57d1d28290>, 'far': <gensim.models.keyedvectors.Vocab object at 0x7f57d1d282d0>, 'might': <gensim.models.keyedvectors.Vocab object at 0x7f57d1d28310>, 'better': <gensim.models.keyedvectors.Vocab object at 0x7f57d1d28350>, 'singularity': <gensim.models.keyedvectors.Vocab object at 0x7f57d1d28390>, 'superintelligent': <gensim.models.keyedvectors.Vocab object at 0x7f57d1d283d0>, 'transhumanism': <gensim.models.keyedvectors.Vocab object at 0x7f57d1d28410>, 'name': <gensim.models.keyedvectors.Vocab object at 0x7f57d1d28450>, 'economists': <gensim.models.keyedvectors.Vocab object at 0x7f57d1d28490>, 'benefit': <gensim.models.keyedvectors.Vocab object at 0x7f57d1d284d0>, 'jobs': <gensim.models.keyedvectors.Vocab object at 0x7f57d1d28510>, 'automation': <gensim.models.keyedvectors.Vocab object at 0x7f57d1d28550>, 'white': <gensim.models.keyedvectors.Vocab object at 0x7f57d1d28590>, 'collar': <gensim.models.keyedvectors.Vocab object at 0x7f57d1d285d0>, 'worth': <gensim.models.keyedvectors.Vocab object at 0x7f57d1d28610>, 'surveillance': <gensim.models.keyedvectors.Vocab object at 0x7f57d1d28650>, 'prevent': <gensim.models.keyedvectors.Vocab object at 0x7f57d1d28690>, 'misinformation': <gensim.models.keyedvectors.Vocab object at 0x7f57d1d286d0>, 'countries': <gensim.models.keyedvectors.Vocab object at 0x7f57d1d28710>, 'researching': <gensim.models.keyedvectors.Vocab object at 0x7f57d1d28750>, 'unfair': <gensim.models.keyedvectors.Vocab object at 0x7f57d1d28790>, 'compas': <gensim.models.keyedvectors.Vocab object at 0x7f57d1d287d0>, 'defendants': <gensim.models.keyedvectors.Vocab object at 0x7f57d1d28810>, 'stephen': <gensim.models.keyedvectors.Vocab object at 0x7f57d1d28850>, 'hawking': <gensim.models.keyedvectors.Vocab object at 0x7f57d1d28890>, 'resources': <gensim.models.keyedvectors.Vocab object at 0x7f57d1d288d0>, 'shut': <gensim.models.keyedvectors.Vocab object at 0x7f57d1d28910>, 'friendly': <gensim.models.keyedvectors.Vocab object at 0x7f57d1d28950>, 'believe': <gensim.models.keyedvectors.Vocab object at 0x7f57d1d28990>, 'morality': <gensim.models.keyedvectors.Vocab object at 0x7f57d1d289d0>, 'musk': <gensim.models.keyedvectors.Vocab object at 0x7f57d1d28a10>, 'prominent': <gensim.models.keyedvectors.Vocab object at 0x7f57d1d28a50>, 'development': <gensim.models.keyedvectors.Vocab object at 0x7f57d1d28a90>, 'mark': <gensim.models.keyedvectors.Vocab object at 0x7f57d1d28ad0>, 'ceo': <gensim.models.keyedvectors.Vocab object at 0x7f57d1d28b10>, 'risks': <gensim.models.keyedvectors.Vocab object at 0x7f57d1d28b50>, 'developing': <gensim.models.keyedvectors.Vocab object at 0x7f57d1d28b90>, 'becomes': <gensim.models.keyedvectors.Vocab object at 0x7f57d1d28bd0>, 'ethical': <gensim.models.keyedvectors.Vocab object at 0x7f57d1d28c10>, 'three': <gensim.models.keyedvectors.Vocab object at 0x7f57d1d28c50>, 'regulation': <gensim.models.keyedvectors.Vocab object at 0x7f57d1d28c90>, 'laws': <gensim.models.keyedvectors.Vocab object at 0x7f57d1d28cd0>, 'culture': <gensim.models.keyedvectors.Vocab object at 0x7f57d1d28d10>, 'asimov': <gensim.models.keyedvectors.Vocab object at 0x7f57d1d28d50>, 'series': <gensim.models.keyedvectors.Vocab object at 0x7f57d1d28d90>, 'dick': <gensim.models.keyedvectors.Vocab object at 0x7f57d1d28dd0>}\n",
            "dict_keys(['artificial', 'intelligence', 'ai', 'machines', 'natural', 'displayed', 'humans', 'leading', 'define', 'field', 'study', 'intelligent', 'agents', 'system', 'perceives', 'environment', 'takes', 'actions', 'maximize', 'achieving', 'goals', 'popular', 'use', 'term', 'cognitive', 'functions', 'human', 'mind', 'learning', 'problem', 'solving', 'however', 'definition', 'rejected', 'researchers', 'applications', 'include', 'advanced', 'web', 'search', 'engines', 'e', 'google', 'recommendation', 'systems', 'used', 'amazon', 'netflix', 'understanding', 'speech', 'siri', 'self', 'driving', 'cars', 'g', 'level', 'game', 'chess', 'go', 'become', 'capable', 'tasks', 'considered', 'require', 'often', 'phenomenon', 'known', 'effect', 'recognition', 'frequently', 'things', 'technology', 'founded', 'academic', 'years', 'since', 'experienced', 'several', 'waves', 'followed', 'funding', 'winter', 'new', 'approaches', 'success', 'research', 'many', 'different', 'including', 'simulating', 'brain', 'modeling', 'formal', 'logic', 'large', 'databases', 'knowledge', 'animal', 'behavior', 'first', 'st', 'century', 'highly', 'mathematical', 'statistical', 'machine', 'technique', 'proved', 'successful', 'helping', 'solve', 'problems', 'industry', 'various', 'sub', 'fields', 'around', 'particular', 'tools', 'reasoning', 'representation', 'planning', 'language', 'processing', 'perception', 'ability', 'move', 'objects', 'c', 'general', 'arbitrary', 'among', 'long', 'optimization', 'neural', 'networks', 'methods', 'based', 'statistics', 'probability', 'economics', 'also', 'upon', 'computer', 'science', 'psychology', 'philosophy', 'assumption', 'precisely', 'described', 'made', 'simulate', 'philosophical', 'arguments', 'ethics', 'creating', 'beings', 'like', 'issues', 'explored', 'fiction', 'antiquity', 'suggested', 'enormous', 'potential', 'power', 'may', 'existential', 'risk', 'humanity', 'appeared', 'storytelling', 'devices', 'common', 'mary', 'shelley', 'frankenstein', 'karel', 'apek', 'r', 'u', 'raised', 'discussed', 'began', 'philosophers', 'led', 'directly', 'alan', 'turing', 'theory', 'computation', 'simple', 'could', 'act', 'deduction', 'digital', 'computers', 'process', 'church', 'thesis', 'neurobiology', 'information', 'cybernetics', 'consider', 'possibility', 'work', 'generally', 'design', 'complete', 'neurons', 'access', 'became', 'possible', 'mid', 'reduced', 'symbol', 'manipulation', 'produced', 'programs', 'strategies', 'word', 'algebra', 'proving', 'logical', 'theorems', 'middle', 'heavily', 'funded', 'established', 'world', 'symbolic', 'would', 'eventually', 'goal', 'simon', 'predicted', 'within', 'generation', 'solved', 'failed', 'recognize', 'us', 'projects', 'british', 'governments', 'next', 'later', 'called', 'difficult', 'early', 'revived', 'commercial', 'form', 'program', 'simulated', 'skills', 'experts', 'market', 'billion', 'time', 'japan', 'inspired', 'beginning', 'longer', 'approach', 'able', 'processes', 'especially', 'robotics', 'pattern', 'number', 'specific', 'rodney', 'brooks', 'engineering', 'allow', 'robots', 'survive', 'learn', 'interest', 'geoffrey', 'hinton', 'david', 'others', 'soft', 'computing', 'developed', 'fuzzy', 'evolutionary', 'late', 'finding', 'solutions', 'narrow', 'produce', 'verifiable', 'mathematics', 'widely', 'although', 'rarely', 'algorithmic', 'data', 'hungry', 'deep', 'accuracy', 'according', 'software', 'increased', 'j', 'increase', 'due', 'survey', 'one', 'companies', 'reported', 'incorporated', 'total', 'concerned', 'fully', 'even', 'techniques', 'agi', 'well', 'institutions', 'traits', 'capabilities', 'expect', 'received', 'algorithms', 'step', 'puzzles', 'make', 'deductions', 'uncertain', 'incomplete', 'concepts', 'explosion', 'exponentially', 'model', 'using', 'fast', 'questions', 'intelligently', 'real', 'facts', 'exists', 'ontology', 'set', 'relations', 'properties', 'interpret', 'ontologies', 'attempt', 'domain', 'area', 'concern', 'need', 'commonsense', 'average', 'person', 'knows', 'typically', 'represented', 'description', 'domains', 'categories', 'events', 'states', 'know', 'people', 'default', 'assume', 'true', 'told', 'changing', 'breadth', 'much', 'statements', 'express', 'retrieval', 'decision', 'support', 'discovery', 'areas', 'agent', 'plan', 'makes', 'state', 'predictions', 'change', 'choices', 'utility', 'value', 'available', 'certain', 'requires', 'reason', 'uncertainty', 'assess', 'multi', 'uses', 'achieve', 'given', 'swarm', 'fundamental', 'concept', 'k', 'improve', 'experience', 'unsupervised', 'finds', 'patterns', 'input', 'supervised', 'two', 'main', 'classification', 'regression', 'determine', 'something', 'belongs', 'examples', 'classify', 'inputs', 'function', 'describes', 'relationship', 'outputs', 'classifiers', 'learners', 'viewed', 'example', 'spam', 'classifier', 'text', 'reinforcement', 'good', 'responses', 'ones', 'classifies', 'strategy', 'space', 'computational', 'complexity', 'sample', 'required', 'nlp', 'allows', 'understand', 'sufficiently', 'powerful', 'written', 'sources', 'texts', 'question', 'translation', 'useful', 'modern', 'occurrence', 'appears', 'another', 'searching', 'sensors', 'signals', 'facial', 'object', 'vision', 'analyze', 'visual', 'robot', 'visible', 'easy', 'dynamic', 'body', 'motion', 'movement', 'task', 'individual', 'involves', 'physical', 'despite', 'affective', 'virtual', 'assistants', 'programmed', 'interaction', 'otherwise', 'actually', 'successes', 'related', 'sentiment', 'analysis', 'current', 'part', 'exactly', 'point', 'studies', 'exclusively', 'theoretically', 'path', 'application', 'inference', 'find', 'target', 'means', 'moving', 'searches', 'sufficient', 'solution', 'heuristics', 'likely', 'reach', 'steps', 'lead', 'tree', 'supply', 'best', 'guess', 'size', 'came', 'begin', 'blind', 'random', 'landscape', 'top', 'guesses', 'genetic', 'expression', 'programming', 'ant', 'applied', 'algorithm', 'forms', 'truth', 'order', 'degree', 'logics', 'non', 'designed', 'situation', 'calculus', 'belief', 'bayesian', 'n', 'filtering', 'prediction', 'markov', 'models', 'measure', 'valuable', 'simplest', 'divided', 'diamond', 'controllers', 'therefore', 'central', 'matching', 'making', 'observations', 'class', 'combined', 'observation', 'classified', 'previous', 'trained', 'nearest', 'neighbor', 'svm', 'naive', 'bayes', 'scalability', 'performance', 'depends', 'perform', 'extremely', 'rather', 'speed', 'architecture', 'neuron', 'whether', 'training', 'fire', 'together', 'wire', 'activation', 'complex', 'relationships', 'gradient', 'descent', 'created', 'network', 'backpropagation', 'competitive', 'feedforward', 'recurrent', 'short', 'perceptrons', 'layer', 'basis', 'layers', 'improved', 'important', 'introduced', 'colleagues', 'published', 'ivakhnenko', 'already', 'way', 'pre', 'similar', 'convolutional', 'cnns', 'back', 'industrial', 'champion', 'sequence', 'rnns', 'rnn', 'thus', 'suffer', 'numerous', 'lstm', 'ctc', 'microsoft', 'list', 'mainstream', 'autonomous', 'high', 'profile', 'experimental', 'deepfakes', 'decisions', 'public', 'consciousness', 'wrote', 'show', 'thing', 'conscious', 'simulation', 'thinking', 'idea', 'test', 'founder', 'john', 'russell', 'norvig', 'agree', 'pigeons', 'argued', 'paradigm', 'provides', 'scientific', 'history', 'see', 'critics', 'argue', 'future', 'proposed', 'necessary', 'moravec', 'philosopher', 'feel', 'issue', 'bias', 'still', 'away', 'impossible', 'neats', 'principles', 'provably', 'superintelligence', 'sense', 'considers', 'stuart', 'peter', 'care', 'works', 'named', 'hard', 'explain', 'subjective', 'learned', 'red', 'computationalism', 'position', 'argues', 'searle', 'rights', 'hypothetical', 'centuries', 'institute', 'far', 'might', 'better', 'singularity', 'superintelligent', 'transhumanism', 'name', 'economists', 'benefit', 'jobs', 'automation', 'white', 'collar', 'worth', 'surveillance', 'prevent', 'misinformation', 'countries', 'researching', 'unfair', 'compas', 'defendants', 'stephen', 'hawking', 'resources', 'shut', 'friendly', 'believe', 'morality', 'musk', 'prominent', 'development', 'mark', 'ceo', 'risks', 'developing', 'becomes', 'ethical', 'three', 'regulation', 'laws', 'culture', 'asimov', 'series', 'dick'])\n"
          ]
        }
      ]
    },
    {
      "cell_type": "markdown",
      "metadata": {
        "id": "xibIjFRy0gcr"
      },
      "source": [
        "When the above script is executed, you will see a list of all the unique words occurring at least\n",
        "twice."
      ]
    },
    {
      "cell_type": "markdown",
      "metadata": {
        "id": "V8TvrCAP0pwv"
      },
      "source": [
        "## Model Analysis\n",
        "\n",
        "### Finding Vectors for a Word\n",
        "We know that the Word2Vec model converts words to their corresponding vectors. Let's see\n",
        "how we can view vector representation of any particular word."
      ]
    },
    {
      "cell_type": "code",
      "metadata": {
        "id": "r6h7fZ-D0zwt"
      },
      "source": [
        "v1 = word2vec.wv['artificial']\n",
        "\n",
        "# print(v1)"
      ],
      "execution_count": 15,
      "outputs": []
    },
    {
      "cell_type": "markdown",
      "metadata": {
        "id": "RQrSd0Gb0-qi"
      },
      "source": [
        "The vector v1 contains the vector representation for the word “artificial”. By default, a\n",
        "hundred-dimensional vector is created by Gensim Word2Vec. This is a much, much smaller\n",
        "vector as compared to what would have been produced by bag of words. If we use the bag of\n",
        "words approach for embedding the article, the length of the vector for each will be 1206 since\n",
        "there are 1206 unique words with a minimum frequency of 2. If the minimum frequency of\n",
        "occurrence is set to 1, the size of the bag of words vector will further increase. On the other\n",
        "hand, vectors generated through Word2Vec are not affected by the size of the vocabulary."
      ]
    },
    {
      "cell_type": "markdown",
      "metadata": {
        "id": "kEJv8ZE11B-Y"
      },
      "source": [
        "### Finding Similar Words\n",
        "\n",
        "Earlier we said that contextual information of the words is not lost using Word2Vec approach.\n",
        "We can verify this by finding all the words similar to the word “intelligence”."
      ]
    },
    {
      "cell_type": "code",
      "metadata": {
        "colab": {
          "base_uri": "https://localhost:8080/"
        },
        "id": "Coe5rT3v1GtS",
        "outputId": "3af651ec-da20-40b4-909d-80a8501fea7d"
      },
      "source": [
        "sim_words = word2vec.wv.most_similar('intelligence')\n",
        "\n",
        "print(sim_words)"
      ],
      "execution_count": 17,
      "outputs": [
        {
          "output_type": "stream",
          "name": "stdout",
          "text": [
            "[('research', 0.3998758792877197), ('incorporated', 0.3184848725795746), ('called', 0.31742894649505615), ('automation', 0.3104512095451355), ('st', 0.30977052450180054), ('series', 0.3056904375553131), ('classification', 0.3011520504951477), ('potential', 0.2922999858856201), ('ability', 0.2864953577518463), ('could', 0.28556424379348755)]\n"
          ]
        }
      ]
    },
    {
      "cell_type": "markdown",
      "metadata": {
        "id": "ePprOBYM1UF9"
      },
      "source": [
        "From the output, you can see the words similar to “intelligence” along with their similarity\n",
        "index. The word “ai” is the most similar word to “intelligence” according to the model, which\n",
        "actually makes sense. Similarly, words such as “human” and “artificial” often coexist with the\n",
        "word “intelligence”. Our model has successfully captured these relations using just a single\n",
        "Wikipedia article."
      ]
    }
  ]
}