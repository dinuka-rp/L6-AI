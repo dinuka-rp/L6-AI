{
  "nbformat": 4,
  "nbformat_minor": 0,
  "metadata": {
    "colab": {
      "name": "Mr.Prasan Yapa - LSTM.ipynb",
      "provenance": [],
      "mount_file_id": "1K-cU_ZnhIjUJWmvVw431YSAgXm-nnlmy",
      "authorship_tag": "ABX9TyOJ2p5Teb9kEkUGSc9q5Hcf",
      "include_colab_link": true
    },
    "kernelspec": {
      "name": "python3",
      "display_name": "Python 3"
    },
    "language_info": {
      "name": "python"
    }
  },
  "cells": [
    {
      "cell_type": "markdown",
      "metadata": {
        "id": "view-in-github",
        "colab_type": "text"
      },
      "source": [
        "<a href=\"https://colab.research.google.com/github/dinuka-rp/L6-AI/blob/main/Prasan_Yapa/LSTM-Stock_Prediction.ipynb\" target=\"_parent\"><img src=\"https://colab.research.google.com/assets/colab-badge.svg\" alt=\"Open In Colab\"/></a>"
      ]
    },
    {
      "cell_type": "markdown",
      "metadata": {
        "id": "DuGZMNhveYxP"
      },
      "source": [
        "# Stock Price Analysis with LSTM using Python’s Keras library\n",
        "\n",
        "LSTM (Long Short-Term Memory network) is a type of Recurrent Neural Network (RNN) capable of remembering the past information and while predicting the future values, it takes this past information into account."
      ]
    },
    {
      "cell_type": "markdown",
      "metadata": {
        "id": "Fsr5u0Y9khU5"
      },
      "source": [
        "## Importing data set"
      ]
    },
    {
      "cell_type": "code",
      "metadata": {
        "id": "bxprkZC-j9Wq"
      },
      "source": [
        "import pandas as pd"
      ],
      "execution_count": 16,
      "outputs": []
    },
    {
      "cell_type": "code",
      "metadata": {
        "id": "uIDDj5gzeFLO",
        "colab": {
          "base_uri": "https://localhost:8080/",
          "height": 297
        },
        "outputId": "bdc162bc-a3b9-458f-b18a-a76f28f05ec7"
      },
      "source": [
        "apple_training_complete = pd.read_csv('/content/drive/MyDrive/Datasets/apple_training.csv')\n",
        "\n",
        "apple_training_complete.describe()"
      ],
      "execution_count": 17,
      "outputs": [
        {
          "output_type": "execute_result",
          "data": {
            "text/html": [
              "<div>\n",
              "<style scoped>\n",
              "    .dataframe tbody tr th:only-of-type {\n",
              "        vertical-align: middle;\n",
              "    }\n",
              "\n",
              "    .dataframe tbody tr th {\n",
              "        vertical-align: top;\n",
              "    }\n",
              "\n",
              "    .dataframe thead th {\n",
              "        text-align: right;\n",
              "    }\n",
              "</style>\n",
              "<table border=\"1\" class=\"dataframe\">\n",
              "  <thead>\n",
              "    <tr style=\"text-align: right;\">\n",
              "      <th></th>\n",
              "      <th>Open</th>\n",
              "      <th>High</th>\n",
              "      <th>Low</th>\n",
              "      <th>Close</th>\n",
              "      <th>Adj Close</th>\n",
              "      <th>Volume</th>\n",
              "    </tr>\n",
              "  </thead>\n",
              "  <tbody>\n",
              "    <tr>\n",
              "      <th>count</th>\n",
              "      <td>1510.000000</td>\n",
              "      <td>1510.000000</td>\n",
              "      <td>1510.000000</td>\n",
              "      <td>1510.000000</td>\n",
              "      <td>1510.000000</td>\n",
              "      <td>1.510000e+03</td>\n",
              "    </tr>\n",
              "    <tr>\n",
              "      <th>mean</th>\n",
              "      <td>120.553181</td>\n",
              "      <td>121.599357</td>\n",
              "      <td>119.478726</td>\n",
              "      <td>120.552883</td>\n",
              "      <td>113.957782</td>\n",
              "      <td>5.281330e+07</td>\n",
              "    </tr>\n",
              "    <tr>\n",
              "      <th>std</th>\n",
              "      <td>41.692663</td>\n",
              "      <td>42.043099</td>\n",
              "      <td>41.319459</td>\n",
              "      <td>41.691989</td>\n",
              "      <td>42.787262</td>\n",
              "      <td>3.572438e+07</td>\n",
              "    </tr>\n",
              "    <tr>\n",
              "      <th>min</th>\n",
              "      <td>55.424286</td>\n",
              "      <td>57.085712</td>\n",
              "      <td>55.014286</td>\n",
              "      <td>55.790001</td>\n",
              "      <td>49.259438</td>\n",
              "      <td>1.147590e+07</td>\n",
              "    </tr>\n",
              "    <tr>\n",
              "      <th>25%</th>\n",
              "      <td>92.902503</td>\n",
              "      <td>93.592501</td>\n",
              "      <td>91.925002</td>\n",
              "      <td>92.737501</td>\n",
              "      <td>85.321665</td>\n",
              "      <td>2.837228e+07</td>\n",
              "    </tr>\n",
              "    <tr>\n",
              "      <th>50%</th>\n",
              "      <td>112.974998</td>\n",
              "      <td>114.174999</td>\n",
              "      <td>111.800003</td>\n",
              "      <td>112.990002</td>\n",
              "      <td>105.890720</td>\n",
              "      <td>4.228650e+07</td>\n",
              "    </tr>\n",
              "    <tr>\n",
              "      <th>75%</th>\n",
              "      <td>151.442501</td>\n",
              "      <td>153.337497</td>\n",
              "      <td>149.690007</td>\n",
              "      <td>150.947502</td>\n",
              "      <td>146.289738</td>\n",
              "      <td>6.605078e+07</td>\n",
              "    </tr>\n",
              "    <tr>\n",
              "      <th>max</th>\n",
              "      <td>230.779999</td>\n",
              "      <td>233.470001</td>\n",
              "      <td>229.779999</td>\n",
              "      <td>232.070007</td>\n",
              "      <td>227.839798</td>\n",
              "      <td>3.652131e+08</td>\n",
              "    </tr>\n",
              "  </tbody>\n",
              "</table>\n",
              "</div>"
            ],
            "text/plain": [
              "              Open         High  ...    Adj Close        Volume\n",
              "count  1510.000000  1510.000000  ...  1510.000000  1.510000e+03\n",
              "mean    120.553181   121.599357  ...   113.957782  5.281330e+07\n",
              "std      41.692663    42.043099  ...    42.787262  3.572438e+07\n",
              "min      55.424286    57.085712  ...    49.259438  1.147590e+07\n",
              "25%      92.902503    93.592501  ...    85.321665  2.837228e+07\n",
              "50%     112.974998   114.174999  ...   105.890720  4.228650e+07\n",
              "75%     151.442501   153.337497  ...   146.289738  6.605078e+07\n",
              "max     230.779999   233.470001  ...   227.839798  3.652131e+08\n",
              "\n",
              "[8 rows x 6 columns]"
            ]
          },
          "metadata": {},
          "execution_count": 17
        }
      ]
    },
    {
      "cell_type": "markdown",
      "metadata": {
        "id": "12sWqox3lQ05"
      },
      "source": [
        "We are only interested in the opening price of the stock. Therefore, we will filter all the data\n",
        "from our training set and will retain only the values for the Open column."
      ]
    },
    {
      "cell_type": "code",
      "metadata": {
        "id": "EFQxVMhblSG8"
      },
      "source": [
        "apple_training_processed = apple_training_complete.iloc[:, 1:2].values\n",
        "\n",
        "# https://www.askpython.com/python/built-in-methods/python-iloc-function"
      ],
      "execution_count": 19,
      "outputs": []
    },
    {
      "cell_type": "markdown",
      "metadata": {
        "id": "on6HeSr6lrwb"
      },
      "source": [
        "## Data normalization\n",
        "\n",
        "As a rule of thumb, whenever you use a neural network, you should normalize or scale your\n",
        "data. \n",
        "\n",
        "We will use *MinMaxScaler* class from the sklear.preprocessing library to scale our data\n",
        "between 0 and 1.\n",
        "\n",
        "The `feature_range` parameter is used to specify the range of the scaled data. "
      ]
    },
    {
      "cell_type": "code",
      "metadata": {
        "id": "BbxISj0amJrn"
      },
      "source": [
        "from sklearn.preprocessing import MinMaxScaler\n",
        "\n",
        "scale = MinMaxScaler(feature_range=(0, 1))\n",
        "apple_training_scaled = scale.fit_transform(apple_training_processed)"
      ],
      "execution_count": 20,
      "outputs": []
    },
    {
      "cell_type": "markdown",
      "metadata": {
        "id": "Bdj5BSn0mOD9"
      },
      "source": [
        "## Converting training data to right shape\n",
        "\n",
        "Our feature set should contain the opening stock price values for the past 60 days while the\n",
        "label or dependent variable should be the stock price at the 61st day."
      ]
    },
    {
      "cell_type": "code",
      "metadata": {
        "id": "6U2zSUvPmfzU"
      },
      "source": [
        "features_set = []\n",
        "labels = []\n",
        "\n",
        "for i in range(60, 1260):\n",
        "  features_set.append(apple_training_scaled[i - 60:i, 0])\n",
        "  labels.append(apple_training_scaled[i, 0])"
      ],
      "execution_count": 21,
      "outputs": []
    },
    {
      "cell_type": "markdown",
      "metadata": {
        "id": "y8Fh4odjmxbu"
      },
      "source": [
        "In the script above we create two lists: `feature_set` and `labels`. There are 1260 records in the\n",
        "training data. We execute a loop that starts from 61st record and stores all the previous 60\n",
        "records to the feature_set list. The 61st record is stored in the labels list."
      ]
    },
    {
      "cell_type": "markdown",
      "metadata": {
        "id": "WJP57gqfnHwf"
      },
      "source": [
        "We need to convert both the `feature_set` and the `labels` list to the numpy array before we can\n",
        "use it for training. "
      ]
    },
    {
      "cell_type": "code",
      "metadata": {
        "id": "fDQA89hFnM1d"
      },
      "source": [
        "import numpy as np\n",
        "\n",
        "features_set, labels = np.array(features_set), np.array(labels)"
      ],
      "execution_count": 22,
      "outputs": []
    },
    {
      "cell_type": "markdown",
      "metadata": {
        "id": "7XuYPl0dnawU"
      },
      "source": [
        "In order to train LSTM on our data, we need to convert our data into the shape accepted by\n",
        "the LSTM. We need to convert our data into three-dimensional format.\n",
        "\n",
        "The first dimension is\n",
        "the number of records or rows in the dataset which is 1260 in our case.\n",
        "\n",
        "The second dimension\n",
        "is the number of time steps which is 60 while \n",
        "\n",
        "the last dimension is the number of indicators.\n",
        "\n",
        "Since we are only using one feature, i.e. Open, the number of indicators will be one."
      ]
    },
    {
      "cell_type": "code",
      "metadata": {
        "id": "elAZuwlyniNj"
      },
      "source": [
        "features_set = np.reshape(features_set, (features_set.shape[0], features_set.shape[1], 1))"
      ],
      "execution_count": 23,
      "outputs": []
    },
    {
      "cell_type": "markdown",
      "metadata": {
        "id": "OWVxij6qooal"
      },
      "source": [
        "## Training the LSTM\n",
        "\n",
        "The LSTM model that we are going to create will be a sequential model with multiple layers.\n",
        "We will add four LSTM layers to our model followed by a dense layer that predicts the future\n",
        "stock price."
      ]
    },
    {
      "cell_type": "markdown",
      "metadata": {
        "id": "677JXLVfpABU"
      },
      "source": [
        "As a first step, we need to instantiate the Sequential class. This will be our model class and we\n",
        "will add LSTM, Dropout and Dense layers to this model."
      ]
    },
    {
      "cell_type": "code",
      "metadata": {
        "id": "ePf3gdWOpBao"
      },
      "source": [
        "from keras.models import Sequential\n",
        "from keras.layers import Dense\n",
        "from keras.layers import LSTM\n",
        "from keras.layers import Dropout\n",
        "\n",
        "model = Sequential()"
      ],
      "execution_count": 24,
      "outputs": []
    },
    {
      "cell_type": "markdown",
      "metadata": {
        "id": "GuFFHOVrpFxR"
      },
      "source": [
        "Let's add LSTM layer to the model that we just created."
      ]
    },
    {
      "cell_type": "code",
      "metadata": {
        "id": "z-AioeVjpG1N"
      },
      "source": [
        "model.add(LSTM(units=50, return_sequences=True,\n",
        "input_shape=(features_set.shape[1], 1)))"
      ],
      "execution_count": 25,
      "outputs": []
    },
    {
      "cell_type": "markdown",
      "metadata": {
        "id": "ZdqZyYhTpOhh"
      },
      "source": [
        "Let's now add a dropout layer to our model. Dropout layer is added to avoid over-fitting,\n",
        "which is a phenomenon where a machine learning model performs better on the training data\n",
        "compared to the test data."
      ]
    },
    {
      "cell_type": "code",
      "metadata": {
        "id": "HCOtV-ZDpQhg"
      },
      "source": [
        "model.add(Dropout(0.2))"
      ],
      "execution_count": 26,
      "outputs": []
    },
    {
      "cell_type": "markdown",
      "metadata": {
        "id": "ft0RIp4GpSML"
      },
      "source": [
        "Let's add three more LSTM and dropout layers to our model."
      ]
    },
    {
      "cell_type": "code",
      "metadata": {
        "id": "v36fHjYLpTnd"
      },
      "source": [
        "model.add(LSTM(units=50, return_sequences=True))\n",
        "model.add(Dropout(0.2))\n",
        "\n",
        "model.add(LSTM(units=50, return_sequences=True))\n",
        "model.add(Dropout(0.2))\n",
        "\n",
        "model.add(LSTM(units=50))\n",
        "model.add(Dropout(0.2))"
      ],
      "execution_count": 27,
      "outputs": []
    },
    {
      "cell_type": "markdown",
      "metadata": {
        "id": "zc6IXJVUpbaC"
      },
      "source": [
        "To make our model more robust, we add a dense layer at the end of the model. The number\n",
        "of neurons in the dense layer will be set to 1 since we want to predict a single value in the\n",
        "output."
      ]
    },
    {
      "cell_type": "code",
      "metadata": {
        "id": "tzvVMCX_pc3P"
      },
      "source": [
        "model.add(Dense(units=1))"
      ],
      "execution_count": 28,
      "outputs": []
    },
    {
      "cell_type": "markdown",
      "metadata": {
        "id": "1mRcoCycpflp"
      },
      "source": [
        "Finally, we need to compile our LSTM before we can train it on the training data."
      ]
    },
    {
      "cell_type": "code",
      "metadata": {
        "id": "ZQVfc5ADphUa"
      },
      "source": [
        "model.compile(optimizer='adam', loss='mean_squared_error')"
      ],
      "execution_count": 29,
      "outputs": []
    },
    {
      "cell_type": "markdown",
      "metadata": {
        "id": "i8ypH9lnpxpH"
      },
      "source": [
        "We call the compile method on the Sequential model object which is \"model\" in our case. We\n",
        "use the mean squared error as loss function and to reduce the loss or to optimize the\n",
        "algorithm, we use the adam optimizer."
      ]
    },
    {
      "cell_type": "markdown",
      "metadata": {
        "id": "aGhGRSgOp1nX"
      },
      "source": [
        "we call the fit method on the model and pass it our training features and labels as shown below"
      ]
    },
    {
      "cell_type": "code",
      "metadata": {
        "colab": {
          "base_uri": "https://localhost:8080/"
        },
        "id": "mH0N8zbjp3lK",
        "outputId": "ec49b4bf-3c0e-4d73-a5d3-de64405ad55d"
      },
      "source": [
        "model.fit(features_set, labels, epochs=100, batch_size=32)"
      ],
      "execution_count": 30,
      "outputs": [
        {
          "output_type": "stream",
          "name": "stdout",
          "text": [
            "Epoch 1/100\n",
            "38/38 [==============================] - 11s 123ms/step - loss: 0.0214\n",
            "Epoch 2/100\n",
            "38/38 [==============================] - 5s 125ms/step - loss: 0.0026\n",
            "Epoch 3/100\n",
            "38/38 [==============================] - 5s 129ms/step - loss: 0.0021\n",
            "Epoch 4/100\n",
            "38/38 [==============================] - 5s 126ms/step - loss: 0.0022\n",
            "Epoch 5/100\n",
            "38/38 [==============================] - 5s 123ms/step - loss: 0.0019\n",
            "Epoch 6/100\n",
            "38/38 [==============================] - 5s 123ms/step - loss: 0.0018\n",
            "Epoch 7/100\n",
            "38/38 [==============================] - 5s 123ms/step - loss: 0.0018\n",
            "Epoch 8/100\n",
            "38/38 [==============================] - 5s 123ms/step - loss: 0.0018\n",
            "Epoch 9/100\n",
            "38/38 [==============================] - 5s 124ms/step - loss: 0.0018\n",
            "Epoch 10/100\n",
            "38/38 [==============================] - 5s 130ms/step - loss: 0.0017\n",
            "Epoch 11/100\n",
            "38/38 [==============================] - 5s 129ms/step - loss: 0.0015\n",
            "Epoch 12/100\n",
            "38/38 [==============================] - 5s 128ms/step - loss: 0.0017\n",
            "Epoch 13/100\n",
            "38/38 [==============================] - 5s 124ms/step - loss: 0.0016\n",
            "Epoch 14/100\n",
            "38/38 [==============================] - 5s 125ms/step - loss: 0.0013\n",
            "Epoch 15/100\n",
            "38/38 [==============================] - 5s 122ms/step - loss: 0.0015\n",
            "Epoch 16/100\n",
            "38/38 [==============================] - 5s 122ms/step - loss: 0.0016\n",
            "Epoch 17/100\n",
            "38/38 [==============================] - 5s 123ms/step - loss: 0.0013\n",
            "Epoch 18/100\n",
            "38/38 [==============================] - 5s 122ms/step - loss: 0.0012\n",
            "Epoch 19/100\n",
            "38/38 [==============================] - 5s 124ms/step - loss: 0.0012\n",
            "Epoch 20/100\n",
            "38/38 [==============================] - 5s 123ms/step - loss: 0.0013\n",
            "Epoch 21/100\n",
            "38/38 [==============================] - 5s 124ms/step - loss: 0.0012\n",
            "Epoch 22/100\n",
            "38/38 [==============================] - 5s 122ms/step - loss: 0.0012\n",
            "Epoch 23/100\n",
            "38/38 [==============================] - 5s 124ms/step - loss: 0.0012\n",
            "Epoch 24/100\n",
            "38/38 [==============================] - 5s 121ms/step - loss: 0.0011\n",
            "Epoch 25/100\n",
            "38/38 [==============================] - 5s 124ms/step - loss: 0.0011\n",
            "Epoch 26/100\n",
            "38/38 [==============================] - 5s 122ms/step - loss: 0.0010\n",
            "Epoch 27/100\n",
            "38/38 [==============================] - 5s 123ms/step - loss: 0.0014\n",
            "Epoch 28/100\n",
            "38/38 [==============================] - 5s 122ms/step - loss: 0.0012\n",
            "Epoch 29/100\n",
            "38/38 [==============================] - 5s 123ms/step - loss: 0.0010\n",
            "Epoch 30/100\n",
            "38/38 [==============================] - 5s 122ms/step - loss: 9.6695e-04\n",
            "Epoch 31/100\n",
            "38/38 [==============================] - 5s 123ms/step - loss: 0.0011\n",
            "Epoch 32/100\n",
            "38/38 [==============================] - 5s 123ms/step - loss: 0.0011\n",
            "Epoch 33/100\n",
            "38/38 [==============================] - 5s 124ms/step - loss: 0.0012\n",
            "Epoch 34/100\n",
            "38/38 [==============================] - 5s 131ms/step - loss: 0.0012\n",
            "Epoch 35/100\n",
            "38/38 [==============================] - 5s 125ms/step - loss: 0.0010\n",
            "Epoch 36/100\n",
            "38/38 [==============================] - 5s 122ms/step - loss: 0.0010\n",
            "Epoch 37/100\n",
            "38/38 [==============================] - 5s 123ms/step - loss: 0.0010\n",
            "Epoch 38/100\n",
            "38/38 [==============================] - 5s 126ms/step - loss: 0.0010\n",
            "Epoch 39/100\n",
            "38/38 [==============================] - 5s 124ms/step - loss: 8.2339e-04\n",
            "Epoch 40/100\n",
            "38/38 [==============================] - 5s 122ms/step - loss: 9.2185e-04\n",
            "Epoch 41/100\n",
            "38/38 [==============================] - 5s 122ms/step - loss: 8.6874e-04\n",
            "Epoch 42/100\n",
            "38/38 [==============================] - 5s 124ms/step - loss: 8.9420e-04\n",
            "Epoch 43/100\n",
            "38/38 [==============================] - 5s 123ms/step - loss: 8.5931e-04\n",
            "Epoch 44/100\n",
            "38/38 [==============================] - 5s 122ms/step - loss: 8.3135e-04\n",
            "Epoch 45/100\n",
            "38/38 [==============================] - 5s 126ms/step - loss: 8.3941e-04\n",
            "Epoch 46/100\n",
            "38/38 [==============================] - 5s 125ms/step - loss: 8.9972e-04\n",
            "Epoch 47/100\n",
            "38/38 [==============================] - 5s 124ms/step - loss: 8.2648e-04\n",
            "Epoch 48/100\n",
            "38/38 [==============================] - 5s 126ms/step - loss: 8.8721e-04\n",
            "Epoch 49/100\n",
            "38/38 [==============================] - 5s 124ms/step - loss: 7.6083e-04\n",
            "Epoch 50/100\n",
            "38/38 [==============================] - 5s 125ms/step - loss: 8.3808e-04\n",
            "Epoch 51/100\n",
            "38/38 [==============================] - 5s 123ms/step - loss: 7.3465e-04\n",
            "Epoch 52/100\n",
            "38/38 [==============================] - 5s 125ms/step - loss: 7.6877e-04\n",
            "Epoch 53/100\n",
            "38/38 [==============================] - 5s 125ms/step - loss: 8.3812e-04\n",
            "Epoch 54/100\n",
            "38/38 [==============================] - 5s 122ms/step - loss: 7.6346e-04\n",
            "Epoch 55/100\n",
            "38/38 [==============================] - 5s 125ms/step - loss: 7.8970e-04\n",
            "Epoch 56/100\n",
            "38/38 [==============================] - 5s 125ms/step - loss: 7.8758e-04\n",
            "Epoch 57/100\n",
            "38/38 [==============================] - 5s 126ms/step - loss: 7.5669e-04\n",
            "Epoch 58/100\n",
            "38/38 [==============================] - 5s 131ms/step - loss: 7.5866e-04\n",
            "Epoch 59/100\n",
            "38/38 [==============================] - 5s 133ms/step - loss: 6.8329e-04\n",
            "Epoch 60/100\n",
            "38/38 [==============================] - 5s 134ms/step - loss: 6.8980e-04\n",
            "Epoch 61/100\n",
            "38/38 [==============================] - 5s 134ms/step - loss: 6.4851e-04\n",
            "Epoch 62/100\n",
            "38/38 [==============================] - 6s 146ms/step - loss: 6.9174e-04\n",
            "Epoch 63/100\n",
            "38/38 [==============================] - 6s 168ms/step - loss: 6.9713e-04\n",
            "Epoch 64/100\n",
            "38/38 [==============================] - 6s 168ms/step - loss: 7.3268e-04\n",
            "Epoch 65/100\n",
            "38/38 [==============================] - 7s 178ms/step - loss: 8.1584e-04\n",
            "Epoch 66/100\n",
            "38/38 [==============================] - 7s 191ms/step - loss: 7.3473e-04\n",
            "Epoch 67/100\n",
            "38/38 [==============================] - 7s 182ms/step - loss: 6.8143e-04\n",
            "Epoch 68/100\n",
            "38/38 [==============================] - 7s 176ms/step - loss: 6.7617e-04\n",
            "Epoch 69/100\n",
            "38/38 [==============================] - 6s 163ms/step - loss: 7.6199e-04\n",
            "Epoch 70/100\n",
            "38/38 [==============================] - 6s 167ms/step - loss: 6.9006e-04\n",
            "Epoch 71/100\n",
            "38/38 [==============================] - 6s 155ms/step - loss: 6.7561e-04\n",
            "Epoch 72/100\n",
            "38/38 [==============================] - 6s 148ms/step - loss: 7.2837e-04\n",
            "Epoch 73/100\n",
            "38/38 [==============================] - 5s 142ms/step - loss: 6.6685e-04\n",
            "Epoch 74/100\n",
            "38/38 [==============================] - 6s 155ms/step - loss: 5.8282e-04\n",
            "Epoch 75/100\n",
            "38/38 [==============================] - 6s 149ms/step - loss: 6.1802e-04\n",
            "Epoch 76/100\n",
            "38/38 [==============================] - 5s 130ms/step - loss: 6.3785e-04\n",
            "Epoch 77/100\n",
            "38/38 [==============================] - 5s 125ms/step - loss: 6.2785e-04\n",
            "Epoch 78/100\n",
            "38/38 [==============================] - 5s 124ms/step - loss: 5.7736e-04\n",
            "Epoch 79/100\n",
            "38/38 [==============================] - 5s 122ms/step - loss: 6.0719e-04\n",
            "Epoch 80/100\n",
            "38/38 [==============================] - 5s 124ms/step - loss: 5.6909e-04\n",
            "Epoch 81/100\n",
            "38/38 [==============================] - 5s 127ms/step - loss: 5.7902e-04\n",
            "Epoch 82/100\n",
            "38/38 [==============================] - 5s 129ms/step - loss: 5.3563e-04\n",
            "Epoch 83/100\n",
            "38/38 [==============================] - 5s 126ms/step - loss: 5.7407e-04\n",
            "Epoch 84/100\n",
            "38/38 [==============================] - 5s 126ms/step - loss: 6.8105e-04\n",
            "Epoch 85/100\n",
            "38/38 [==============================] - 5s 126ms/step - loss: 5.0653e-04\n",
            "Epoch 86/100\n",
            "38/38 [==============================] - 5s 123ms/step - loss: 5.8831e-04\n",
            "Epoch 87/100\n",
            "38/38 [==============================] - 5s 123ms/step - loss: 5.7918e-04\n",
            "Epoch 88/100\n",
            "38/38 [==============================] - 5s 127ms/step - loss: 7.0396e-04\n",
            "Epoch 89/100\n",
            "38/38 [==============================] - 5s 125ms/step - loss: 5.5415e-04\n",
            "Epoch 90/100\n",
            "38/38 [==============================] - 5s 126ms/step - loss: 5.2092e-04\n",
            "Epoch 91/100\n",
            "38/38 [==============================] - 5s 132ms/step - loss: 5.5624e-04\n",
            "Epoch 92/100\n",
            "38/38 [==============================] - 5s 127ms/step - loss: 5.5553e-04\n",
            "Epoch 93/100\n",
            "38/38 [==============================] - 5s 126ms/step - loss: 5.1865e-04\n",
            "Epoch 94/100\n",
            "38/38 [==============================] - 5s 126ms/step - loss: 5.5428e-04\n",
            "Epoch 95/100\n",
            "38/38 [==============================] - 5s 126ms/step - loss: 6.7166e-04\n",
            "Epoch 96/100\n",
            "38/38 [==============================] - 5s 126ms/step - loss: 6.0916e-04\n",
            "Epoch 97/100\n",
            "38/38 [==============================] - 5s 124ms/step - loss: 5.3061e-04\n",
            "Epoch 98/100\n",
            "38/38 [==============================] - 5s 124ms/step - loss: 5.1007e-04\n",
            "Epoch 99/100\n",
            "38/38 [==============================] - 5s 121ms/step - loss: 6.0843e-04\n",
            "Epoch 100/100\n",
            "38/38 [==============================] - 5s 124ms/step - loss: 4.6250e-04\n"
          ]
        },
        {
          "output_type": "execute_result",
          "data": {
            "text/plain": [
              "<keras.callbacks.History at 0x7f543a724250>"
            ]
          },
          "metadata": {},
          "execution_count": 30
        }
      ]
    },
    {
      "cell_type": "markdown",
      "metadata": {
        "id": "ZxJJHGOip6PS"
      },
      "source": [
        "## Testing the LSTM"
      ]
    },
    {
      "cell_type": "markdown",
      "metadata": {
        "id": "o6ze_qnzqDCE"
      },
      "source": [
        "We have successfully trained our LSTM, now is the time to test the performance of our\n",
        "algorithm on the test set by predicting the opening stock prices for the month of January\n",
        "2019.\n",
        "\n",
        "However, as we did with the training data, we need to convert our test data in the right format. Let's first import our test data."
      ]
    },
    {
      "cell_type": "code",
      "metadata": {
        "colab": {
          "base_uri": "https://localhost:8080/",
          "height": 297
        },
        "id": "CARiy_KQj5t-",
        "outputId": "70d06058-6b47-4ba2-f9e5-58d9300cb7bb"
      },
      "source": [
        "apple_testing_complete = pd.read_csv('/content/drive/MyDrive/Datasets/apple_testing.csv')\n",
        "\n",
        "apple_testing_complete.describe()"
      ],
      "execution_count": 18,
      "outputs": [
        {
          "output_type": "execute_result",
          "data": {
            "text/html": [
              "<div>\n",
              "<style scoped>\n",
              "    .dataframe tbody tr th:only-of-type {\n",
              "        vertical-align: middle;\n",
              "    }\n",
              "\n",
              "    .dataframe tbody tr th {\n",
              "        vertical-align: top;\n",
              "    }\n",
              "\n",
              "    .dataframe thead th {\n",
              "        text-align: right;\n",
              "    }\n",
              "</style>\n",
              "<table border=\"1\" class=\"dataframe\">\n",
              "  <thead>\n",
              "    <tr style=\"text-align: right;\">\n",
              "      <th></th>\n",
              "      <th>Open</th>\n",
              "      <th>High</th>\n",
              "      <th>Low</th>\n",
              "      <th>Close</th>\n",
              "      <th>Adj Close</th>\n",
              "      <th>Volume</th>\n",
              "    </tr>\n",
              "  </thead>\n",
              "  <tbody>\n",
              "    <tr>\n",
              "      <th>count</th>\n",
              "      <td>21.000000</td>\n",
              "      <td>21.000000</td>\n",
              "      <td>21.000000</td>\n",
              "      <td>21.000000</td>\n",
              "      <td>21.000000</td>\n",
              "      <td>2.100000e+01</td>\n",
              "    </tr>\n",
              "    <tr>\n",
              "      <th>mean</th>\n",
              "      <td>153.247618</td>\n",
              "      <td>155.071430</td>\n",
              "      <td>151.562857</td>\n",
              "      <td>153.751904</td>\n",
              "      <td>151.475977</td>\n",
              "      <td>3.915959e+07</td>\n",
              "    </tr>\n",
              "    <tr>\n",
              "      <th>std</th>\n",
              "      <td>4.455294</td>\n",
              "      <td>4.439687</td>\n",
              "      <td>4.216462</td>\n",
              "      <td>4.632128</td>\n",
              "      <td>4.563560</td>\n",
              "      <td>1.599264e+07</td>\n",
              "    </tr>\n",
              "    <tr>\n",
              "      <th>min</th>\n",
              "      <td>143.979996</td>\n",
              "      <td>145.720001</td>\n",
              "      <td>142.000000</td>\n",
              "      <td>142.190002</td>\n",
              "      <td>140.085220</td>\n",
              "      <td>2.313060e+07</td>\n",
              "    </tr>\n",
              "    <tr>\n",
              "      <th>25%</th>\n",
              "      <td>150.850006</td>\n",
              "      <td>153.389999</td>\n",
              "      <td>149.630005</td>\n",
              "      <td>152.289993</td>\n",
              "      <td>150.035706</td>\n",
              "      <td>2.982120e+07</td>\n",
              "    </tr>\n",
              "    <tr>\n",
              "      <th>50%</th>\n",
              "      <td>154.110001</td>\n",
              "      <td>155.139999</td>\n",
              "      <td>151.740005</td>\n",
              "      <td>153.800003</td>\n",
              "      <td>151.523376</td>\n",
              "      <td>3.375100e+07</td>\n",
              "    </tr>\n",
              "    <tr>\n",
              "      <th>75%</th>\n",
              "      <td>155.789993</td>\n",
              "      <td>157.880005</td>\n",
              "      <td>154.110001</td>\n",
              "      <td>156.300003</td>\n",
              "      <td>153.986359</td>\n",
              "      <td>4.158720e+07</td>\n",
              "    </tr>\n",
              "    <tr>\n",
              "      <th>max</th>\n",
              "      <td>163.250000</td>\n",
              "      <td>166.149994</td>\n",
              "      <td>160.229996</td>\n",
              "      <td>165.250000</td>\n",
              "      <td>162.803864</td>\n",
              "      <td>9.131220e+07</td>\n",
              "    </tr>\n",
              "  </tbody>\n",
              "</table>\n",
              "</div>"
            ],
            "text/plain": [
              "             Open        High         Low       Close   Adj Close        Volume\n",
              "count   21.000000   21.000000   21.000000   21.000000   21.000000  2.100000e+01\n",
              "mean   153.247618  155.071430  151.562857  153.751904  151.475977  3.915959e+07\n",
              "std      4.455294    4.439687    4.216462    4.632128    4.563560  1.599264e+07\n",
              "min    143.979996  145.720001  142.000000  142.190002  140.085220  2.313060e+07\n",
              "25%    150.850006  153.389999  149.630005  152.289993  150.035706  2.982120e+07\n",
              "50%    154.110001  155.139999  151.740005  153.800003  151.523376  3.375100e+07\n",
              "75%    155.789993  157.880005  154.110001  156.300003  153.986359  4.158720e+07\n",
              "max    163.250000  166.149994  160.229996  165.250000  162.803864  9.131220e+07"
            ]
          },
          "metadata": {},
          "execution_count": 18
        }
      ]
    },
    {
      "cell_type": "code",
      "metadata": {
        "id": "d41nePnVqTB_"
      },
      "source": [
        "apple_testing_processed = apple_testing_complete.iloc[:, 1:2].values"
      ],
      "execution_count": 31,
      "outputs": []
    },
    {
      "cell_type": "markdown",
      "metadata": {
        "id": "IlXwUXJqqqir"
      },
      "source": [
        "For each day of January 2019, we want our feature set to contain the opening stock prices for\n",
        "the previous 60 days. For the 1st of January, we need the stock prices for the previous 60\n",
        "days. To do so, we need to concatenate our training data and test data before preprocessing. "
      ]
    },
    {
      "cell_type": "code",
      "metadata": {
        "id": "a4XZczlUqvjm"
      },
      "source": [
        "apple_total = pd.concat((apple_training_complete['Open'], apple_testing_complete['Open']), axis=0)"
      ],
      "execution_count": 32,
      "outputs": []
    },
    {
      "cell_type": "markdown",
      "metadata": {
        "id": "PrMKH0TZq-ma"
      },
      "source": [
        "Now let's prepare our test inputs. The input for each day should contain the opening stock\n",
        "prices for the previous 60 days"
      ]
    },
    {
      "cell_type": "code",
      "metadata": {
        "id": "N4Ddb5ZhrALM"
      },
      "source": [
        "test_inputs = apple_total[len(apple_total) - len(apple_testing_complete) - 60:].values"
      ],
      "execution_count": 33,
      "outputs": []
    },
    {
      "cell_type": "code",
      "metadata": {
        "colab": {
          "base_uri": "https://localhost:8080/"
        },
        "id": "F1rTzZmmuI7c",
        "outputId": "8a77fa87-fea1-4ac4-d682-171cd6782427"
      },
      "source": [
        "# print(test_inputs[:10])"
      ],
      "execution_count": 44,
      "outputs": [
        {
          "output_type": "stream",
          "name": "stdout",
          "text": [
            "[[0.99583706]\n",
            " [1.        ]\n",
            " [0.98391845]\n",
            " [0.95112796]\n",
            " [0.95928276]\n",
            " [0.96966171]\n",
            " [0.90727422]\n",
            " [0.94092008]\n",
            " [0.94514011]\n",
            " [0.93242304]]\n"
          ]
        }
      ]
    },
    {
      "cell_type": "markdown",
      "metadata": {
        "id": "6zH40rXCrPrh"
      },
      "source": [
        "As we did for the training set, we need to scale our test data."
      ]
    },
    {
      "cell_type": "code",
      "metadata": {
        "id": "FhytFZbNrQwV"
      },
      "source": [
        "test_inputs = test_inputs.reshape(-1, 1)\n",
        "test_inputs = scale.transform(test_inputs)"
      ],
      "execution_count": 34,
      "outputs": []
    },
    {
      "cell_type": "markdown",
      "metadata": {
        "id": "hk0bHEKArTuj"
      },
      "source": [
        "Now let's prepare our final test input set that will contain previous 60 stock prices for the month of January."
      ]
    },
    {
      "cell_type": "code",
      "metadata": {
        "id": "K6m7tGmJrXyt"
      },
      "source": [
        "test_features = []\n",
        "\n",
        "for i in range(60, 80):\n",
        "  test_features.append(test_inputs[i - 60:i, 0])"
      ],
      "execution_count": 35,
      "outputs": []
    },
    {
      "cell_type": "markdown",
      "metadata": {
        "id": "poS8ZTn4reA8"
      },
      "source": [
        "Finally, we need to convert our data into the three-dimensional format which can be used as\n",
        "input to the LSTM."
      ]
    },
    {
      "cell_type": "code",
      "metadata": {
        "id": "KrGkTOdQrfyd"
      },
      "source": [
        "test_features = np.array(test_features)\n",
        "test_features = np.reshape(test_features, (test_features.shape[0], test_features.shape[1], 1))"
      ],
      "execution_count": 36,
      "outputs": []
    },
    {
      "cell_type": "markdown",
      "metadata": {
        "id": "bQ6Oq3Gcrj4p"
      },
      "source": [
        "We preprocessed our test data and now we can use it to make predictions. To do so, we\n",
        "simply need to call the `predict` method on the model that we trained."
      ]
    },
    {
      "cell_type": "code",
      "metadata": {
        "id": "WGA-55mzrnFR"
      },
      "source": [
        "predictions = model.predict(test_features)"
      ],
      "execution_count": 37,
      "outputs": []
    },
    {
      "cell_type": "markdown",
      "metadata": {
        "id": "6boUj1mErq8R"
      },
      "source": [
        "Since we scaled our data, the predictions made by the LSTM are also scaled. We need to\n",
        "reverse the scaled prediction back to their actual values. To do so, we can use the `ìnverse_transform` method of the scaler object we created during training."
      ]
    },
    {
      "cell_type": "code",
      "metadata": {
        "id": "BkBeg9-urvg7"
      },
      "source": [
        "predictions = scale.inverse_transform(predictions)"
      ],
      "execution_count": 38,
      "outputs": []
    },
    {
      "cell_type": "markdown",
      "metadata": {
        "id": "PXO2kes0r59R"
      },
      "source": [
        "Finally, let's see how well our algorithm predicted the future stock prices"
      ]
    },
    {
      "cell_type": "code",
      "metadata": {
        "colab": {
          "base_uri": "https://localhost:8080/",
          "height": 404
        },
        "id": "OyfRF413r6wH",
        "outputId": "7b1a1a84-6642-4ee7-b8d2-8c47d76f6cfb"
      },
      "source": [
        "import matplotlib.pyplot as plt\n",
        "\n",
        "plt.figure(figsize=(10, 6))\n",
        "plt.plot(apple_testing_processed, color='blue', label='Actual Apple Stock Price')\n",
        "plt.plot(predictions, color='red', label='Predicted Apple Stock Price')\n",
        "plt.title('Apple Stock Price Prediction')\n",
        "plt.xlabel('Date')\n",
        "plt.ylabel('Apple Stock Price')\n",
        "plt.legend()\n",
        "plt.show()"
      ],
      "execution_count": 40,
      "outputs": [
        {
          "output_type": "display_data",
          "data": {
            "image/png": "[encoded data removed]",
            "text/plain": [
              "<Figure size 720x432 with 1 Axes>"
            ]
          },
          "metadata": {
            "needs_background": "light"
          }
        }
      ]
    }
  ]
}